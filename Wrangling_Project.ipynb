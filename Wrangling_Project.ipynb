{
 "cells": [
  {
   "cell_type": "markdown",
   "id": "70c9ac56",
   "metadata": {},
   "source": [
    "# Project: Wrangling and Analyze Data"
   ]
  },
  {
   "cell_type": "markdown",
   "id": "fbedea76",
   "metadata": {},
   "source": [
    "# Data Gathering"
   ]
  },
  {
   "cell_type": "code",
   "execution_count": 1,
   "id": "c1effedc",
   "metadata": {},
   "outputs": [],
   "source": [
    "#import the needed libraries\n",
    "import pandas as pd\n",
    "import numpy as np\n",
    "import seaborn as sb\n",
    "import matplotlib.pyplot as plt\n",
    "%matplotlib inline\n",
    "import requests\n",
    "import tweepy \n",
    "import json \n",
    "import datetime as dt\n",
    "import re"
   ]
  },
  {
   "cell_type": "code",
   "execution_count": 2,
   "id": "13886a7a",
   "metadata": {},
   "outputs": [],
   "source": [
    "#importing twitter archive enchanced\n",
    "twitter_archive_df = pd.read_csv('twitter-archive-enhanced.csv')"
   ]
  },
  {
   "cell_type": "code",
   "execution_count": 3,
   "id": "9ba85db4",
   "metadata": {},
   "outputs": [],
   "source": [
    "#use the request library to download the tweet image prediction\n",
    "url = 'https://d17h27t6h515a5.cloudfront.net/topher/2017/August/599fd2ad_image-predictions/image-predictions.tsv'\n",
    "response = requests.get(url)\n",
    "with open('image_prediction.tsv', mode = 'wb') as file:\n",
    "    file.write(response.content)\n",
    "    \n",
    "\n",
    "image_pred_df = pd.read_csv('image_prediction.tsv', sep = '\\t')"
   ]
  },
  {
   "cell_type": "code",
   "execution_count": 4,
   "id": "64e1850b",
   "metadata": {},
   "outputs": [],
   "source": [
    "#use the tweepy library to query additional data via the twitter API (tweet_json.txt)\n",
    "#couldn't download the file from twitter archive using their API,\n",
    "#So I used the one provided by Udacity.\n",
    "\n",
    "#Read in the file into a variable\n",
    "df_lst = [] #an empty list that will contains all the element of the file\n",
    "with open('tweet-json.txt') as file:\n",
    "    for line in file.readlines():\n",
    "        df_lst.append(json.loads(line)) #append all the element\n",
    "\n",
    "#convert the list to dataframe\n",
    "twitter_json_df = pd.DataFrame(df_lst)"
   ]
  },
  {
   "cell_type": "markdown",
   "id": "6e2941d5",
   "metadata": {},
   "source": [
    "# Assessing Data"
   ]
  },
  {
   "cell_type": "code",
   "execution_count": 5,
   "id": "eac3ae12",
   "metadata": {},
   "outputs": [
    {
     "name": "stdout",
     "output_type": "stream",
     "text": [
      "<class 'pandas.core.frame.DataFrame'>\n",
      "RangeIndex: 2356 entries, 0 to 2355\n",
      "Data columns (total 17 columns):\n",
      " #   Column                      Non-Null Count  Dtype  \n",
      "---  ------                      --------------  -----  \n",
      " 0   tweet_id                    2356 non-null   int64  \n",
      " 1   in_reply_to_status_id       78 non-null     float64\n",
      " 2   in_reply_to_user_id         78 non-null     float64\n",
      " 3   timestamp                   2356 non-null   object \n",
      " 4   source                      2356 non-null   object \n",
      " 5   text                        2356 non-null   object \n",
      " 6   retweeted_status_id         181 non-null    float64\n",
      " 7   retweeted_status_user_id    181 non-null    float64\n",
      " 8   retweeted_status_timestamp  181 non-null    object \n",
      " 9   expanded_urls               2297 non-null   object \n",
      " 10  rating_numerator            2356 non-null   int64  \n",
      " 11  rating_denominator          2356 non-null   int64  \n",
      " 12  name                        2356 non-null   object \n",
      " 13  doggo                       2356 non-null   object \n",
      " 14  floofer                     2356 non-null   object \n",
      " 15  pupper                      2356 non-null   object \n",
      " 16  puppo                       2356 non-null   object \n",
      "dtypes: float64(4), int64(3), object(10)\n",
      "memory usage: 313.0+ KB\n"
     ]
    }
   ],
   "source": [
    "#assessing twitter_archive\n",
    "twitter_archive_df.info()"
   ]
  },
  {
   "cell_type": "code",
   "execution_count": 6,
   "id": "7fbd7c43",
   "metadata": {},
   "outputs": [
    {
     "data": {
      "text/plain": [
       "array([ 10,   0,  15,  70,   7,  11, 150, 170,  20,  50,  90,  80,  40,\n",
       "       130, 110,  16, 120,   2], dtype=int64)"
      ]
     },
     "execution_count": 6,
     "metadata": {},
     "output_type": "execute_result"
    }
   ],
   "source": [
    "#assessing rating_denominator column\n",
    "twitter_archive_df.rating_denominator.unique()"
   ]
  },
  {
   "cell_type": "code",
   "execution_count": 7,
   "id": "7b2c3f96",
   "metadata": {},
   "outputs": [
    {
     "data": {
      "text/plain": [
       "array([  13,   12,   14,    5,   17,   11,   10,  420,  666,    6,   15,\n",
       "        182,  960,    0,   75,    7,   84,    9,   24,    8,    1,   27,\n",
       "          3,    4,  165, 1776,  204,   50,   99,   80,   45,   60,   44,\n",
       "        143,  121,   20,   26,    2,  144,   88], dtype=int64)"
      ]
     },
     "execution_count": 7,
     "metadata": {},
     "output_type": "execute_result"
    }
   ],
   "source": [
    "#assessing rating numerator column\n",
    "twitter_archive_df.rating_numerator.unique()"
   ]
  },
  {
   "cell_type": "code",
   "execution_count": 81,
   "id": "32ba4564",
   "metadata": {},
   "outputs": [],
   "source": [
    "#assessing text column to verify dog stages\n",
    "#dogs_stage = [] #store the extract in a list\n",
    "#q = r\"^(Doggo|Pupper|Floofer|Puppo)\"\n",
    "#p = r\"(doggo| pupper|floofer|puppo)\"\n",
    "#for row in tweet_archive.text:\n",
    "#    if re.findall(p, row):\n",
    "  #      dogs_stage.append(p)\n",
    "  #  elif re.findall(q, row):\n",
    "    #    dogs_stage.append(q)\n",
    "    #else:\n",
    "        #dogs_stage.append('None')"
   ]
  },
  {
   "cell_type": "code",
   "execution_count": 8,
   "id": "ac733ac1",
   "metadata": {},
   "outputs": [],
   "source": [
    "#assessing twitter_json\n",
    "twitter_json_df.to_csv('tweet_json.csv')"
   ]
  },
  {
   "cell_type": "code",
   "execution_count": 9,
   "id": "d9a5c79e",
   "metadata": {},
   "outputs": [
    {
     "name": "stdout",
     "output_type": "stream",
     "text": [
      "<class 'pandas.core.frame.DataFrame'>\n",
      "RangeIndex: 2354 entries, 0 to 2353\n",
      "Data columns (total 31 columns):\n",
      " #   Column                         Non-Null Count  Dtype  \n",
      "---  ------                         --------------  -----  \n",
      " 0   created_at                     2354 non-null   object \n",
      " 1   id                             2354 non-null   int64  \n",
      " 2   id_str                         2354 non-null   object \n",
      " 3   full_text                      2354 non-null   object \n",
      " 4   truncated                      2354 non-null   bool   \n",
      " 5   display_text_range             2354 non-null   object \n",
      " 6   entities                       2354 non-null   object \n",
      " 7   extended_entities              2073 non-null   object \n",
      " 8   source                         2354 non-null   object \n",
      " 9   in_reply_to_status_id          78 non-null     float64\n",
      " 10  in_reply_to_status_id_str      78 non-null     object \n",
      " 11  in_reply_to_user_id            78 non-null     float64\n",
      " 12  in_reply_to_user_id_str        78 non-null     object \n",
      " 13  in_reply_to_screen_name        78 non-null     object \n",
      " 14  user                           2354 non-null   object \n",
      " 15  geo                            0 non-null      object \n",
      " 16  coordinates                    0 non-null      object \n",
      " 17  place                          1 non-null      object \n",
      " 18  contributors                   0 non-null      object \n",
      " 19  is_quote_status                2354 non-null   bool   \n",
      " 20  retweet_count                  2354 non-null   int64  \n",
      " 21  favorite_count                 2354 non-null   int64  \n",
      " 22  favorited                      2354 non-null   bool   \n",
      " 23  retweeted                      2354 non-null   bool   \n",
      " 24  possibly_sensitive             2211 non-null   object \n",
      " 25  possibly_sensitive_appealable  2211 non-null   object \n",
      " 26  lang                           2354 non-null   object \n",
      " 27  retweeted_status               179 non-null    object \n",
      " 28  quoted_status_id               29 non-null     float64\n",
      " 29  quoted_status_id_str           29 non-null     object \n",
      " 30  quoted_status                  28 non-null     object \n",
      "dtypes: bool(4), float64(3), int64(3), object(21)\n",
      "memory usage: 505.9+ KB\n"
     ]
    }
   ],
   "source": [
    "twitter_json_df.info()"
   ]
  },
  {
   "cell_type": "code",
   "execution_count": 10,
   "id": "80154ca4",
   "metadata": {},
   "outputs": [
    {
     "name": "stdout",
     "output_type": "stream",
     "text": [
      "<class 'pandas.core.frame.DataFrame'>\n",
      "RangeIndex: 2075 entries, 0 to 2074\n",
      "Data columns (total 12 columns):\n",
      " #   Column    Non-Null Count  Dtype  \n",
      "---  ------    --------------  -----  \n",
      " 0   tweet_id  2075 non-null   int64  \n",
      " 1   jpg_url   2075 non-null   object \n",
      " 2   img_num   2075 non-null   int64  \n",
      " 3   p1        2075 non-null   object \n",
      " 4   p1_conf   2075 non-null   float64\n",
      " 5   p1_dog    2075 non-null   bool   \n",
      " 6   p2        2075 non-null   object \n",
      " 7   p2_conf   2075 non-null   float64\n",
      " 8   p2_dog    2075 non-null   bool   \n",
      " 9   p3        2075 non-null   object \n",
      " 10  p3_conf   2075 non-null   float64\n",
      " 11  p3_dog    2075 non-null   bool   \n",
      "dtypes: bool(3), float64(3), int64(2), object(4)\n",
      "memory usage: 152.1+ KB\n"
     ]
    }
   ],
   "source": [
    "#assessing image_predication\n",
    "image_pred_df.info()"
   ]
  },
  {
   "cell_type": "markdown",
   "id": "474f8ef3",
   "metadata": {},
   "source": [
    "# Quality Issues"
   ]
  },
  {
   "cell_type": "markdown",
   "id": "23cc054a",
   "metadata": {},
   "source": [
    "# Twitter Archive"
   ]
  },
  {
   "cell_type": "markdown",
   "id": "b5bf4b29",
   "metadata": {},
   "source": [
    "1. Timestamp is datetime not object.\n",
    "2. Tweet_id is object not int\n",
    "3. Some numerator ratings are in decimal and some have zero value\n",
    "3. Some entries are retweets and not tweets itself\n",
    "4. Some entries ain't dogs (index: 62, 47, 59, etc)\n",
    "5. Inconsistency in name format for dogs (a, an, some, none, etc) while some do not have names at all."
   ]
  },
  {
   "cell_type": "markdown",
   "id": "ccc3a7da",
   "metadata": {},
   "source": [
    "# Twitter Json"
   ]
  },
  {
   "cell_type": "markdown",
   "id": "3cb8dbb5",
   "metadata": {},
   "source": [
    "1. Id has to be renamed so to match naming in other datasets\n",
    "2. Id is object not int\n",
    "3. Missing records"
   ]
  },
  {
   "cell_type": "markdown",
   "id": "dbb29297",
   "metadata": {},
   "source": [
    "# Image Prediction"
   ]
  },
  {
   "cell_type": "markdown",
   "id": "0aaee90c",
   "metadata": {},
   "source": [
    "1. Tweet_id is object not int\n",
    "2. Missing records"
   ]
  },
  {
   "cell_type": "markdown",
   "id": "87e0d6cc",
   "metadata": {},
   "source": [
    "# Tidiness Issues"
   ]
  },
  {
   "cell_type": "markdown",
   "id": "55e084ef",
   "metadata": {},
   "source": [
    "1. Doggo, floofer, pupper and puppo should be on the same column since they're referring to different stages of dogs.\n",
    "2. The three datasets (twitter_archive, twitter_json and image_pred) should be merged since they're differing to same things"
   ]
  },
  {
   "cell_type": "markdown",
   "id": "6d0fc04b",
   "metadata": {},
   "source": [
    "# Cleaning Data"
   ]
  },
  {
   "cell_type": "code",
   "execution_count": 5,
   "id": "bffc30c3",
   "metadata": {},
   "outputs": [],
   "source": [
    "##Make copies of original datasets\n",
    "tweet_archive = twitter_archive_df.copy()\n",
    "tweet_json = twitter_json_df.copy()\n",
    "dog_imag_pred = image_pred_df.copy()"
   ]
  },
  {
   "cell_type": "code",
   "execution_count": 6,
   "id": "b7173c32",
   "metadata": {},
   "outputs": [],
   "source": [
    "#Droping some uneccessary columns in the datasets\n",
    "tweet_archive = tweet_archive[['tweet_id', 'timestamp', 'text', 'rating_numerator', 'rating_denominator',\n",
    "                               'name', 'doggo', 'floofer', 'pupper', 'puppo']]\n",
    "tweet_json = tweet_json[['id', 'retweet_count', 'favorite_count']]\n",
    "dog_imag_pred = dog_imag_pred[['tweet_id', 'img_num']]"
   ]
  },
  {
   "cell_type": "code",
   "execution_count": null,
   "id": "06fe8ff2",
   "metadata": {},
   "outputs": [],
   "source": []
  },
  {
   "cell_type": "markdown",
   "id": "31808b1d",
   "metadata": {},
   "source": [
    "# Issue #1:"
   ]
  },
  {
   "cell_type": "markdown",
   "id": "b9daea31",
   "metadata": {},
   "source": [
    "Define: Convert timestamp from object to datetime"
   ]
  },
  {
   "cell_type": "code",
   "execution_count": 7,
   "id": "313a3472",
   "metadata": {},
   "outputs": [
    {
     "data": {
      "text/plain": [
       "0    2017-08-01 16:23:56 +0000\n",
       "1    2017-08-01 00:17:27 +0000\n",
       "Name: timestamp, dtype: object"
      ]
     },
     "execution_count": 7,
     "metadata": {},
     "output_type": "execute_result"
    }
   ],
   "source": [
    "tweet_archive['timestamp'].head(2)"
   ]
  },
  {
   "cell_type": "markdown",
   "id": "fe4b85e1",
   "metadata": {},
   "source": [
    "Code"
   ]
  },
  {
   "cell_type": "code",
   "execution_count": 8,
   "id": "5b849310",
   "metadata": {},
   "outputs": [],
   "source": [
    "#convert timestamp from object to datetime\n",
    "\n",
    "#tweet_archive['timestamp'] = tweet_archive['timestamp'].dt.strftime('%Y-%m-%d').apply(pd.to_datetime,format = '%Y-%m-%d')\n",
    "#tweet_archive['timestamp'] = tweet_archive['timestamp'].apply(lambda x: dt.datetime.strptime(x, '%Y-%m-%d'))\n",
    "#tweet_archive['timestamp'] = tweet_archive['timestamp'].apply(pd.to_datetime, \n",
    " #                                                            format = '%Y-%m-%d').dt.strftime('%Y-%m-%d')\n",
    "    \n",
    "tweet_archive['timestamp'] = tweet_archive[\"timestamp\"].apply(lambda x:dt.datetime.strptime(x, '%Y-%m-%d %H:%M:%S +0000'))"
   ]
  },
  {
   "cell_type": "code",
   "execution_count": 9,
   "id": "62e88a7c",
   "metadata": {},
   "outputs": [
    {
     "data": {
      "text/plain": [
       "0    This is Phineas. He's a mystical boy. Only eve...\n",
       "1    This is Tilly. She's just checking pup on you....\n",
       "2    This is Archie. He is a rare Norwegian Pouncin...\n",
       "3    This is Darla. She commenced a snooze mid meal...\n",
       "4    This is Franklin. He would like you to stop ca...\n",
       "Name: text, dtype: object"
      ]
     },
     "execution_count": 9,
     "metadata": {},
     "output_type": "execute_result"
    }
   ],
   "source": [
    "tweet_archive.text.head(5)                                                       "
   ]
  },
  {
   "cell_type": "code",
   "execution_count": 10,
   "id": "f4d0ec51",
   "metadata": {},
   "outputs": [],
   "source": [
    "#Extracting year and month from timestamp column\n",
    "tweet_archive['year'] = tweet_archive.timestamp.dt.year\n",
    "tweet_archive['month'] = tweet_archive.timestamp.dt.month_name()\n",
    "\n",
    "#Drop timestamp from tweet_archive dataset\n",
    "tweet_archive.drop('timestamp', axis = 1, inplace = True)"
   ]
  },
  {
   "cell_type": "markdown",
   "id": "9a06d1b1",
   "metadata": {},
   "source": [
    "Test"
   ]
  },
  {
   "cell_type": "code",
   "execution_count": 11,
   "id": "fb582a06",
   "metadata": {},
   "outputs": [
    {
     "data": {
      "text/html": [
       "<div>\n",
       "<style scoped>\n",
       "    .dataframe tbody tr th:only-of-type {\n",
       "        vertical-align: middle;\n",
       "    }\n",
       "\n",
       "    .dataframe tbody tr th {\n",
       "        vertical-align: top;\n",
       "    }\n",
       "\n",
       "    .dataframe thead th {\n",
       "        text-align: right;\n",
       "    }\n",
       "</style>\n",
       "<table border=\"1\" class=\"dataframe\">\n",
       "  <thead>\n",
       "    <tr style=\"text-align: right;\">\n",
       "      <th></th>\n",
       "      <th>year</th>\n",
       "      <th>month</th>\n",
       "    </tr>\n",
       "  </thead>\n",
       "  <tbody>\n",
       "    <tr>\n",
       "      <th>0</th>\n",
       "      <td>2017</td>\n",
       "      <td>August</td>\n",
       "    </tr>\n",
       "    <tr>\n",
       "      <th>1</th>\n",
       "      <td>2017</td>\n",
       "      <td>August</td>\n",
       "    </tr>\n",
       "    <tr>\n",
       "      <th>2</th>\n",
       "      <td>2017</td>\n",
       "      <td>July</td>\n",
       "    </tr>\n",
       "    <tr>\n",
       "      <th>3</th>\n",
       "      <td>2017</td>\n",
       "      <td>July</td>\n",
       "    </tr>\n",
       "    <tr>\n",
       "      <th>4</th>\n",
       "      <td>2017</td>\n",
       "      <td>July</td>\n",
       "    </tr>\n",
       "  </tbody>\n",
       "</table>\n",
       "</div>"
      ],
      "text/plain": [
       "   year   month\n",
       "0  2017  August\n",
       "1  2017  August\n",
       "2  2017    July\n",
       "3  2017    July\n",
       "4  2017    July"
      ]
     },
     "execution_count": 11,
     "metadata": {},
     "output_type": "execute_result"
    }
   ],
   "source": [
    "tweet_archive[['year', 'month']].head(5)"
   ]
  },
  {
   "cell_type": "markdown",
   "id": "10b42cdc",
   "metadata": {},
   "source": [
    "# Issue #2"
   ]
  },
  {
   "cell_type": "markdown",
   "id": "9a935805",
   "metadata": {},
   "source": [
    "Define: Convert tweet_id datatype to string"
   ]
  },
  {
   "cell_type": "markdown",
   "id": "fc663fe8",
   "metadata": {},
   "source": [
    "Code"
   ]
  },
  {
   "cell_type": "code",
   "execution_count": 12,
   "id": "7843add2",
   "metadata": {},
   "outputs": [],
   "source": [
    "tweet_archive['tweet_id'] = tweet_archive.tweet_id.astype(str)"
   ]
  },
  {
   "cell_type": "markdown",
   "id": "85a863cf",
   "metadata": {},
   "source": [
    "Test"
   ]
  },
  {
   "cell_type": "code",
   "execution_count": 13,
   "id": "d0dba15b",
   "metadata": {},
   "outputs": [
    {
     "data": {
      "text/plain": [
       "dtype('O')"
      ]
     },
     "execution_count": 13,
     "metadata": {},
     "output_type": "execute_result"
    }
   ],
   "source": [
    "tweet_archive.tweet_id.dtypes"
   ]
  },
  {
   "cell_type": "markdown",
   "id": "8d6628d5",
   "metadata": {},
   "source": [
    "# Issue #3"
   ]
  },
  {
   "cell_type": "markdown",
   "id": "6e02e4c6",
   "metadata": {},
   "source": [
    "Define: Some numerators rating are in decimal and would be recified manually."
   ]
  },
  {
   "cell_type": "code",
   "execution_count": 14,
   "id": "7c80afc4",
   "metadata": {},
   "outputs": [
    {
     "data": {
      "text/plain": [
       "45                               This is Bella. She hopes her smile made you smile. If not, she is also offering you her favorite monkey. 13.5/10 https://t.co/qjrljjt948\n",
       "259                        This is Tycho. She just had new wheels installed. About to do a zoom. 0-60 in 2.4 seconds. 13/10 inspirational as h*ck https://t.co/DKwp2ByMsL\n",
       "340                          RT @dog_rates: This is Logan, the Chow who lived. He solemnly swears he's up to lots of good. H*ckin magical af 9.75/10 https://t.co/yBO5wu…\n",
       "695                                      This is Logan, the Chow who lived. He solemnly swears he's up to lots of good. H*ckin magical af 9.75/10 https://t.co/yBO5wuqaPS\n",
       "763     This is Sophie. She's a Jubilant Bush Pupper. Super h*ckin rare. Appears at random just to smile at the locals. 11.27/10 would smile back https://t.co/QFaUiIHxHq\n",
       "1018                                                                                                      Guys... Dog Jesus 2.0\\n13/10 buoyant af https://t.co/CuNA7OwfKQ\n",
       "1294                         This is Farfle. He lost his back legs during the Battle of Gettysburg. Goes 0-60 in 4.3 seconds (damn) 12/10 hero af https://t.co/NiQQWzIzzq\n",
       "1689                                                           I've been told there's a slight possibility he's checking his mirror. We'll bump to 9.5/10. Still a menace\n",
       "1712                                                           Here we have uncovered an entire battalion of holiday puppers. Average of 11.26/10 https://t.co/eNm2S6p9BD\n",
       "1768                                                 This is Bella. She just learned that her final grade in chem was a 92.49 \\npoor pupper 11/10 https://t.co/auOoKuoveM\n",
       "1790                             Say hello to Axel. He's a Black Chevy Pinot on wheels. 0 to 60 in 5.7 seconds (if downhill). 9/10 I call shotgun https://t.co/DKe9DBnnHE\n",
       "2347                                         My oh my. This is a rare blond Canadian terrier on wheels. Only $8.98. Rather docile. 9/10 very rare https://t.co/yWBqbrzy8O\n",
       "Name: text, dtype: object"
      ]
     },
     "execution_count": 14,
     "metadata": {},
     "output_type": "execute_result"
    }
   ],
   "source": [
    "pd.set_option('display.max_colwidth', None)\n",
    "# filter only tweets with decimal numbers \n",
    "tweet_archive[tweet_archive.text.str.extract(r'(\\d+\\.\\d+)', expand=False).notnull()].text"
   ]
  },
  {
   "cell_type": "code",
   "execution_count": 21,
   "id": "23237f72",
   "metadata": {},
   "outputs": [
    {
     "data": {
      "text/html": [
       "<div>\n",
       "<style scoped>\n",
       "    .dataframe tbody tr th:only-of-type {\n",
       "        vertical-align: middle;\n",
       "    }\n",
       "\n",
       "    .dataframe tbody tr th {\n",
       "        vertical-align: top;\n",
       "    }\n",
       "\n",
       "    .dataframe thead th {\n",
       "        text-align: right;\n",
       "    }\n",
       "</style>\n",
       "<table border=\"1\" class=\"dataframe\">\n",
       "  <thead>\n",
       "    <tr style=\"text-align: right;\">\n",
       "      <th></th>\n",
       "      <th>tweet_id</th>\n",
       "      <th>rating_numerator</th>\n",
       "      <th>rating_denominator</th>\n",
       "    </tr>\n",
       "  </thead>\n",
       "  <tbody>\n",
       "    <tr>\n",
       "      <th>45</th>\n",
       "      <td>883482846933004288</td>\n",
       "      <td>5</td>\n",
       "      <td>10</td>\n",
       "    </tr>\n",
       "  </tbody>\n",
       "</table>\n",
       "</div>"
      ],
      "text/plain": [
       "              tweet_id  rating_numerator  rating_denominator\n",
       "45  883482846933004288                 5                  10"
      ]
     },
     "execution_count": 21,
     "metadata": {},
     "output_type": "execute_result"
    }
   ],
   "source": [
    "tweet_archive[['tweet_id','rating_numerator', 'rating_denominator']][tweet_archive.index == 45] #The rating of the number would be corrected manually"
   ]
  },
  {
   "cell_type": "code",
   "execution_count": 47,
   "id": "c4093b63",
   "metadata": {},
   "outputs": [
    {
     "data": {
      "text/html": [
       "<div>\n",
       "<style scoped>\n",
       "    .dataframe tbody tr th:only-of-type {\n",
       "        vertical-align: middle;\n",
       "    }\n",
       "\n",
       "    .dataframe tbody tr th {\n",
       "        vertical-align: top;\n",
       "    }\n",
       "\n",
       "    .dataframe thead th {\n",
       "        text-align: right;\n",
       "    }\n",
       "</style>\n",
       "<table border=\"1\" class=\"dataframe\">\n",
       "  <thead>\n",
       "    <tr style=\"text-align: right;\">\n",
       "      <th></th>\n",
       "      <th>tweet_id</th>\n",
       "      <th>rating_numerator</th>\n",
       "      <th>rating_denominator</th>\n",
       "    </tr>\n",
       "  </thead>\n",
       "  <tbody>\n",
       "    <tr>\n",
       "      <th>259</th>\n",
       "      <td>843235543001513987</td>\n",
       "      <td>13</td>\n",
       "      <td>10</td>\n",
       "    </tr>\n",
       "  </tbody>\n",
       "</table>\n",
       "</div>"
      ],
      "text/plain": [
       "               tweet_id  rating_numerator  rating_denominator\n",
       "259  843235543001513987                13                  10"
      ]
     },
     "execution_count": 47,
     "metadata": {},
     "output_type": "execute_result"
    }
   ],
   "source": [
    "tweet_archive[['tweet_id','rating_numerator', 'rating_denominator']][tweet_archive.index == 259] #This is correct rating"
   ]
  },
  {
   "cell_type": "code",
   "execution_count": 48,
   "id": "f81714d5",
   "metadata": {},
   "outputs": [
    {
     "data": {
      "text/html": [
       "<div>\n",
       "<style scoped>\n",
       "    .dataframe tbody tr th:only-of-type {\n",
       "        vertical-align: middle;\n",
       "    }\n",
       "\n",
       "    .dataframe tbody tr th {\n",
       "        vertical-align: top;\n",
       "    }\n",
       "\n",
       "    .dataframe thead th {\n",
       "        text-align: right;\n",
       "    }\n",
       "</style>\n",
       "<table border=\"1\" class=\"dataframe\">\n",
       "  <thead>\n",
       "    <tr style=\"text-align: right;\">\n",
       "      <th></th>\n",
       "      <th>tweet_id</th>\n",
       "      <th>rating_numerator</th>\n",
       "      <th>rating_denominator</th>\n",
       "    </tr>\n",
       "  </thead>\n",
       "  <tbody>\n",
       "    <tr>\n",
       "      <th>340</th>\n",
       "      <td>832215909146226688</td>\n",
       "      <td>75</td>\n",
       "      <td>10</td>\n",
       "    </tr>\n",
       "  </tbody>\n",
       "</table>\n",
       "</div>"
      ],
      "text/plain": [
       "               tweet_id  rating_numerator  rating_denominator\n",
       "340  832215909146226688                75                  10"
      ]
     },
     "execution_count": 48,
     "metadata": {},
     "output_type": "execute_result"
    }
   ],
   "source": [
    "tweet_archive[['tweet_id','rating_numerator', 'rating_denominator']][tweet_archive.index == 340] #This is a retweet and would be deleted in issue 4."
   ]
  },
  {
   "cell_type": "code",
   "execution_count": 49,
   "id": "91f47001",
   "metadata": {},
   "outputs": [
    {
     "data": {
      "text/html": [
       "<div>\n",
       "<style scoped>\n",
       "    .dataframe tbody tr th:only-of-type {\n",
       "        vertical-align: middle;\n",
       "    }\n",
       "\n",
       "    .dataframe tbody tr th {\n",
       "        vertical-align: top;\n",
       "    }\n",
       "\n",
       "    .dataframe thead th {\n",
       "        text-align: right;\n",
       "    }\n",
       "</style>\n",
       "<table border=\"1\" class=\"dataframe\">\n",
       "  <thead>\n",
       "    <tr style=\"text-align: right;\">\n",
       "      <th></th>\n",
       "      <th>tweet_id</th>\n",
       "      <th>rating_numerator</th>\n",
       "      <th>rating_denominator</th>\n",
       "    </tr>\n",
       "  </thead>\n",
       "  <tbody>\n",
       "    <tr>\n",
       "      <th>695</th>\n",
       "      <td>786709082849828864</td>\n",
       "      <td>75</td>\n",
       "      <td>10</td>\n",
       "    </tr>\n",
       "  </tbody>\n",
       "</table>\n",
       "</div>"
      ],
      "text/plain": [
       "               tweet_id  rating_numerator  rating_denominator\n",
       "695  786709082849828864                75                  10"
      ]
     },
     "execution_count": 49,
     "metadata": {},
     "output_type": "execute_result"
    }
   ],
   "source": [
    "tweet_archive[['tweet_id','rating_numerator', 'rating_denominator']][tweet_archive.index == 695] #This is a retweet and would be deleted in issue 4."
   ]
  },
  {
   "cell_type": "code",
   "execution_count": 22,
   "id": "e1458c91",
   "metadata": {},
   "outputs": [
    {
     "data": {
      "text/html": [
       "<div>\n",
       "<style scoped>\n",
       "    .dataframe tbody tr th:only-of-type {\n",
       "        vertical-align: middle;\n",
       "    }\n",
       "\n",
       "    .dataframe tbody tr th {\n",
       "        vertical-align: top;\n",
       "    }\n",
       "\n",
       "    .dataframe thead th {\n",
       "        text-align: right;\n",
       "    }\n",
       "</style>\n",
       "<table border=\"1\" class=\"dataframe\">\n",
       "  <thead>\n",
       "    <tr style=\"text-align: right;\">\n",
       "      <th></th>\n",
       "      <th>tweet_id</th>\n",
       "      <th>rating_numerator</th>\n",
       "      <th>rating_denominator</th>\n",
       "    </tr>\n",
       "  </thead>\n",
       "  <tbody>\n",
       "    <tr>\n",
       "      <th>763</th>\n",
       "      <td>778027034220126208</td>\n",
       "      <td>27</td>\n",
       "      <td>10</td>\n",
       "    </tr>\n",
       "  </tbody>\n",
       "</table>\n",
       "</div>"
      ],
      "text/plain": [
       "               tweet_id  rating_numerator  rating_denominator\n",
       "763  778027034220126208                27                  10"
      ]
     },
     "execution_count": 22,
     "metadata": {},
     "output_type": "execute_result"
    }
   ],
   "source": [
    "tweet_archive[['tweet_id','rating_numerator', 'rating_denominator']][tweet_archive.index == 763] #The rating of the number would be corrected manually"
   ]
  },
  {
   "cell_type": "code",
   "execution_count": 23,
   "id": "7667b4d0",
   "metadata": {},
   "outputs": [
    {
     "data": {
      "text/html": [
       "<div>\n",
       "<style scoped>\n",
       "    .dataframe tbody tr th:only-of-type {\n",
       "        vertical-align: middle;\n",
       "    }\n",
       "\n",
       "    .dataframe tbody tr th {\n",
       "        vertical-align: top;\n",
       "    }\n",
       "\n",
       "    .dataframe thead th {\n",
       "        text-align: right;\n",
       "    }\n",
       "</style>\n",
       "<table border=\"1\" class=\"dataframe\">\n",
       "  <thead>\n",
       "    <tr style=\"text-align: right;\">\n",
       "      <th></th>\n",
       "      <th>tweet_id</th>\n",
       "      <th>rating_numerator</th>\n",
       "      <th>rating_denominator</th>\n",
       "    </tr>\n",
       "  </thead>\n",
       "  <tbody>\n",
       "    <tr>\n",
       "      <th>1018</th>\n",
       "      <td>746818907684614144</td>\n",
       "      <td>13</td>\n",
       "      <td>10</td>\n",
       "    </tr>\n",
       "  </tbody>\n",
       "</table>\n",
       "</div>"
      ],
      "text/plain": [
       "                tweet_id  rating_numerator  rating_denominator\n",
       "1018  746818907684614144                13                  10"
      ]
     },
     "execution_count": 23,
     "metadata": {},
     "output_type": "execute_result"
    }
   ],
   "source": [
    "tweet_archive[['tweet_id','rating_numerator', 'rating_denominator']][tweet_archive.index == 1018] #This is correct rating."
   ]
  },
  {
   "cell_type": "code",
   "execution_count": 24,
   "id": "7057ec70",
   "metadata": {},
   "outputs": [
    {
     "data": {
      "text/html": [
       "<div>\n",
       "<style scoped>\n",
       "    .dataframe tbody tr th:only-of-type {\n",
       "        vertical-align: middle;\n",
       "    }\n",
       "\n",
       "    .dataframe tbody tr th {\n",
       "        vertical-align: top;\n",
       "    }\n",
       "\n",
       "    .dataframe thead th {\n",
       "        text-align: right;\n",
       "    }\n",
       "</style>\n",
       "<table border=\"1\" class=\"dataframe\">\n",
       "  <thead>\n",
       "    <tr style=\"text-align: right;\">\n",
       "      <th></th>\n",
       "      <th>tweet_id</th>\n",
       "      <th>rating_numerator</th>\n",
       "      <th>rating_denominator</th>\n",
       "    </tr>\n",
       "  </thead>\n",
       "  <tbody>\n",
       "    <tr>\n",
       "      <th>1294</th>\n",
       "      <td>707995814724026368</td>\n",
       "      <td>12</td>\n",
       "      <td>10</td>\n",
       "    </tr>\n",
       "  </tbody>\n",
       "</table>\n",
       "</div>"
      ],
      "text/plain": [
       "                tweet_id  rating_numerator  rating_denominator\n",
       "1294  707995814724026368                12                  10"
      ]
     },
     "execution_count": 24,
     "metadata": {},
     "output_type": "execute_result"
    }
   ],
   "source": [
    "tweet_archive[['tweet_id','rating_numerator', 'rating_denominator']][tweet_archive.index == 1294] #This is correct rating."
   ]
  },
  {
   "cell_type": "code",
   "execution_count": 25,
   "id": "c0e29604",
   "metadata": {},
   "outputs": [
    {
     "data": {
      "text/html": [
       "<div>\n",
       "<style scoped>\n",
       "    .dataframe tbody tr th:only-of-type {\n",
       "        vertical-align: middle;\n",
       "    }\n",
       "\n",
       "    .dataframe tbody tr th {\n",
       "        vertical-align: top;\n",
       "    }\n",
       "\n",
       "    .dataframe thead th {\n",
       "        text-align: right;\n",
       "    }\n",
       "</style>\n",
       "<table border=\"1\" class=\"dataframe\">\n",
       "  <thead>\n",
       "    <tr style=\"text-align: right;\">\n",
       "      <th></th>\n",
       "      <th>tweet_id</th>\n",
       "      <th>rating_numerator</th>\n",
       "      <th>rating_denominator</th>\n",
       "    </tr>\n",
       "  </thead>\n",
       "  <tbody>\n",
       "    <tr>\n",
       "      <th>1689</th>\n",
       "      <td>681340665377193984</td>\n",
       "      <td>5</td>\n",
       "      <td>10</td>\n",
       "    </tr>\n",
       "  </tbody>\n",
       "</table>\n",
       "</div>"
      ],
      "text/plain": [
       "                tweet_id  rating_numerator  rating_denominator\n",
       "1689  681340665377193984                 5                  10"
      ]
     },
     "execution_count": 25,
     "metadata": {},
     "output_type": "execute_result"
    }
   ],
   "source": [
    "tweet_archive[['tweet_id','rating_numerator', 'rating_denominator']][tweet_archive.index == 1689] #This is a comment and would be deleted"
   ]
  },
  {
   "cell_type": "code",
   "execution_count": 26,
   "id": "e4ba1b3e",
   "metadata": {},
   "outputs": [
    {
     "data": {
      "text/html": [
       "<div>\n",
       "<style scoped>\n",
       "    .dataframe tbody tr th:only-of-type {\n",
       "        vertical-align: middle;\n",
       "    }\n",
       "\n",
       "    .dataframe tbody tr th {\n",
       "        vertical-align: top;\n",
       "    }\n",
       "\n",
       "    .dataframe thead th {\n",
       "        text-align: right;\n",
       "    }\n",
       "</style>\n",
       "<table border=\"1\" class=\"dataframe\">\n",
       "  <thead>\n",
       "    <tr style=\"text-align: right;\">\n",
       "      <th></th>\n",
       "      <th>tweet_id</th>\n",
       "      <th>rating_numerator</th>\n",
       "      <th>rating_denominator</th>\n",
       "    </tr>\n",
       "  </thead>\n",
       "  <tbody>\n",
       "    <tr>\n",
       "      <th>1712</th>\n",
       "      <td>680494726643068929</td>\n",
       "      <td>26</td>\n",
       "      <td>10</td>\n",
       "    </tr>\n",
       "  </tbody>\n",
       "</table>\n",
       "</div>"
      ],
      "text/plain": [
       "                tweet_id  rating_numerator  rating_denominator\n",
       "1712  680494726643068929                26                  10"
      ]
     },
     "execution_count": 26,
     "metadata": {},
     "output_type": "execute_result"
    }
   ],
   "source": [
    "tweet_archive[['tweet_id','rating_numerator', 'rating_denominator']][tweet_archive.index == 1712] #Don't really know and would be deleted"
   ]
  },
  {
   "cell_type": "code",
   "execution_count": 27,
   "id": "8b21fa60",
   "metadata": {},
   "outputs": [
    {
     "data": {
      "text/html": [
       "<div>\n",
       "<style scoped>\n",
       "    .dataframe tbody tr th:only-of-type {\n",
       "        vertical-align: middle;\n",
       "    }\n",
       "\n",
       "    .dataframe tbody tr th {\n",
       "        vertical-align: top;\n",
       "    }\n",
       "\n",
       "    .dataframe thead th {\n",
       "        text-align: right;\n",
       "    }\n",
       "</style>\n",
       "<table border=\"1\" class=\"dataframe\">\n",
       "  <thead>\n",
       "    <tr style=\"text-align: right;\">\n",
       "      <th></th>\n",
       "      <th>tweet_id</th>\n",
       "      <th>rating_numerator</th>\n",
       "      <th>rating_denominator</th>\n",
       "    </tr>\n",
       "  </thead>\n",
       "  <tbody>\n",
       "    <tr>\n",
       "      <th>1768</th>\n",
       "      <td>678389028614488064</td>\n",
       "      <td>11</td>\n",
       "      <td>10</td>\n",
       "    </tr>\n",
       "  </tbody>\n",
       "</table>\n",
       "</div>"
      ],
      "text/plain": [
       "                tweet_id  rating_numerator  rating_denominator\n",
       "1768  678389028614488064                11                  10"
      ]
     },
     "execution_count": 27,
     "metadata": {},
     "output_type": "execute_result"
    }
   ],
   "source": [
    "tweet_archive[['tweet_id','rating_numerator', 'rating_denominator']][tweet_archive.index == 1768] #This is correct rating."
   ]
  },
  {
   "cell_type": "code",
   "execution_count": 28,
   "id": "202115cd",
   "metadata": {},
   "outputs": [
    {
     "data": {
      "text/html": [
       "<div>\n",
       "<style scoped>\n",
       "    .dataframe tbody tr th:only-of-type {\n",
       "        vertical-align: middle;\n",
       "    }\n",
       "\n",
       "    .dataframe tbody tr th {\n",
       "        vertical-align: top;\n",
       "    }\n",
       "\n",
       "    .dataframe thead th {\n",
       "        text-align: right;\n",
       "    }\n",
       "</style>\n",
       "<table border=\"1\" class=\"dataframe\">\n",
       "  <thead>\n",
       "    <tr style=\"text-align: right;\">\n",
       "      <th></th>\n",
       "      <th>tweet_id</th>\n",
       "      <th>rating_numerator</th>\n",
       "      <th>rating_denominator</th>\n",
       "    </tr>\n",
       "  </thead>\n",
       "  <tbody>\n",
       "    <tr>\n",
       "      <th>1790</th>\n",
       "      <td>677530072887205888</td>\n",
       "      <td>9</td>\n",
       "      <td>10</td>\n",
       "    </tr>\n",
       "  </tbody>\n",
       "</table>\n",
       "</div>"
      ],
      "text/plain": [
       "                tweet_id  rating_numerator  rating_denominator\n",
       "1790  677530072887205888                 9                  10"
      ]
     },
     "execution_count": 28,
     "metadata": {},
     "output_type": "execute_result"
    }
   ],
   "source": [
    "tweet_archive[['tweet_id','rating_numerator', 'rating_denominator']][tweet_archive.index == 1790] #This is correct rating."
   ]
  },
  {
   "cell_type": "code",
   "execution_count": 29,
   "id": "a33d35b3",
   "metadata": {},
   "outputs": [
    {
     "data": {
      "text/html": [
       "<div>\n",
       "<style scoped>\n",
       "    .dataframe tbody tr th:only-of-type {\n",
       "        vertical-align: middle;\n",
       "    }\n",
       "\n",
       "    .dataframe tbody tr th {\n",
       "        vertical-align: top;\n",
       "    }\n",
       "\n",
       "    .dataframe thead th {\n",
       "        text-align: right;\n",
       "    }\n",
       "</style>\n",
       "<table border=\"1\" class=\"dataframe\">\n",
       "  <thead>\n",
       "    <tr style=\"text-align: right;\">\n",
       "      <th></th>\n",
       "      <th>tweet_id</th>\n",
       "      <th>rating_numerator</th>\n",
       "      <th>rating_denominator</th>\n",
       "    </tr>\n",
       "  </thead>\n",
       "  <tbody>\n",
       "    <tr>\n",
       "      <th>2347</th>\n",
       "      <td>666057090499244032</td>\n",
       "      <td>9</td>\n",
       "      <td>10</td>\n",
       "    </tr>\n",
       "  </tbody>\n",
       "</table>\n",
       "</div>"
      ],
      "text/plain": [
       "                tweet_id  rating_numerator  rating_denominator\n",
       "2347  666057090499244032                 9                  10"
      ]
     },
     "execution_count": 29,
     "metadata": {},
     "output_type": "execute_result"
    }
   ],
   "source": [
    "tweet_archive[['tweet_id','rating_numerator', 'rating_denominator']][tweet_archive.index == 2347] #This is correct rating."
   ]
  },
  {
   "cell_type": "markdown",
   "id": "d39b92bd",
   "metadata": {},
   "source": [
    "Code"
   ]
  },
  {
   "cell_type": "code",
   "execution_count": 15,
   "id": "de1a39af",
   "metadata": {},
   "outputs": [],
   "source": [
    "#replace 5, 75 and 27 with 13, 9 and 11 which I assume to be correct rating.\n",
    "rating = {5 : 13, 75: 9, 27: 11, 26 : 11} \n",
    "tweet_archive.rating_numerator.replace(rating, inplace = True)"
   ]
  },
  {
   "cell_type": "code",
   "execution_count": 16,
   "id": "cf0262bd",
   "metadata": {},
   "outputs": [
    {
     "data": {
      "text/html": [
       "<div>\n",
       "<style scoped>\n",
       "    .dataframe tbody tr th:only-of-type {\n",
       "        vertical-align: middle;\n",
       "    }\n",
       "\n",
       "    .dataframe tbody tr th {\n",
       "        vertical-align: top;\n",
       "    }\n",
       "\n",
       "    .dataframe thead th {\n",
       "        text-align: right;\n",
       "    }\n",
       "</style>\n",
       "<table border=\"1\" class=\"dataframe\">\n",
       "  <thead>\n",
       "    <tr style=\"text-align: right;\">\n",
       "      <th></th>\n",
       "      <th>tweet_id</th>\n",
       "      <th>rating_numerator</th>\n",
       "      <th>rating_denominator</th>\n",
       "    </tr>\n",
       "  </thead>\n",
       "  <tbody>\n",
       "    <tr>\n",
       "      <th>763</th>\n",
       "      <td>778027034220126208</td>\n",
       "      <td>11</td>\n",
       "      <td>10</td>\n",
       "    </tr>\n",
       "  </tbody>\n",
       "</table>\n",
       "</div>"
      ],
      "text/plain": [
       "               tweet_id  rating_numerator  rating_denominator\n",
       "763  778027034220126208                11                  10"
      ]
     },
     "execution_count": 16,
     "metadata": {},
     "output_type": "execute_result"
    }
   ],
   "source": [
    "tweet_archive[['tweet_id','rating_numerator', 'rating_denominator']][tweet_archive.index == 763]"
   ]
  },
  {
   "cell_type": "code",
   "execution_count": null,
   "id": "51cb0de7",
   "metadata": {},
   "outputs": [],
   "source": []
  },
  {
   "cell_type": "markdown",
   "id": "28b7de2a",
   "metadata": {},
   "source": [
    "Test"
   ]
  },
  {
   "cell_type": "code",
   "execution_count": 17,
   "id": "6496a7df",
   "metadata": {},
   "outputs": [
    {
     "data": {
      "text/html": [
       "<div>\n",
       "<style scoped>\n",
       "    .dataframe tbody tr th:only-of-type {\n",
       "        vertical-align: middle;\n",
       "    }\n",
       "\n",
       "    .dataframe tbody tr th {\n",
       "        vertical-align: top;\n",
       "    }\n",
       "\n",
       "    .dataframe thead th {\n",
       "        text-align: right;\n",
       "    }\n",
       "</style>\n",
       "<table border=\"1\" class=\"dataframe\">\n",
       "  <thead>\n",
       "    <tr style=\"text-align: right;\">\n",
       "      <th></th>\n",
       "      <th>tweet_id</th>\n",
       "      <th>text</th>\n",
       "      <th>rating_numerator</th>\n",
       "      <th>rating_denominator</th>\n",
       "      <th>name</th>\n",
       "      <th>doggo</th>\n",
       "      <th>floofer</th>\n",
       "      <th>pupper</th>\n",
       "      <th>puppo</th>\n",
       "      <th>year</th>\n",
       "      <th>month</th>\n",
       "    </tr>\n",
       "  </thead>\n",
       "  <tbody>\n",
       "    <tr>\n",
       "      <th>45</th>\n",
       "      <td>883482846933004288</td>\n",
       "      <td>This is Bella. She hopes her smile made you smile. If not, she is also offering you her favorite monkey. 13.5/10 https://t.co/qjrljjt948</td>\n",
       "      <td>13</td>\n",
       "      <td>10</td>\n",
       "      <td>Bella</td>\n",
       "      <td>None</td>\n",
       "      <td>None</td>\n",
       "      <td>None</td>\n",
       "      <td>None</td>\n",
       "      <td>2017</td>\n",
       "      <td>July</td>\n",
       "    </tr>\n",
       "    <tr>\n",
       "      <th>259</th>\n",
       "      <td>843235543001513987</td>\n",
       "      <td>This is Tycho. She just had new wheels installed. About to do a zoom. 0-60 in 2.4 seconds. 13/10 inspirational as h*ck https://t.co/DKwp2ByMsL</td>\n",
       "      <td>13</td>\n",
       "      <td>10</td>\n",
       "      <td>Tycho</td>\n",
       "      <td>None</td>\n",
       "      <td>None</td>\n",
       "      <td>None</td>\n",
       "      <td>None</td>\n",
       "      <td>2017</td>\n",
       "      <td>March</td>\n",
       "    </tr>\n",
       "    <tr>\n",
       "      <th>695</th>\n",
       "      <td>786709082849828864</td>\n",
       "      <td>This is Logan, the Chow who lived. He solemnly swears he's up to lots of good. H*ckin magical af 9.75/10 https://t.co/yBO5wuqaPS</td>\n",
       "      <td>9</td>\n",
       "      <td>10</td>\n",
       "      <td>Logan</td>\n",
       "      <td>None</td>\n",
       "      <td>None</td>\n",
       "      <td>None</td>\n",
       "      <td>None</td>\n",
       "      <td>2016</td>\n",
       "      <td>October</td>\n",
       "    </tr>\n",
       "    <tr>\n",
       "      <th>763</th>\n",
       "      <td>778027034220126208</td>\n",
       "      <td>This is Sophie. She's a Jubilant Bush Pupper. Super h*ckin rare. Appears at random just to smile at the locals. 11.27/10 would smile back https://t.co/QFaUiIHxHq</td>\n",
       "      <td>11</td>\n",
       "      <td>10</td>\n",
       "      <td>Sophie</td>\n",
       "      <td>None</td>\n",
       "      <td>None</td>\n",
       "      <td>pupper</td>\n",
       "      <td>None</td>\n",
       "      <td>2016</td>\n",
       "      <td>September</td>\n",
       "    </tr>\n",
       "    <tr>\n",
       "      <th>1018</th>\n",
       "      <td>746818907684614144</td>\n",
       "      <td>Guys... Dog Jesus 2.0\\n13/10 buoyant af https://t.co/CuNA7OwfKQ</td>\n",
       "      <td>13</td>\n",
       "      <td>10</td>\n",
       "      <td>None</td>\n",
       "      <td>None</td>\n",
       "      <td>None</td>\n",
       "      <td>None</td>\n",
       "      <td>None</td>\n",
       "      <td>2016</td>\n",
       "      <td>June</td>\n",
       "    </tr>\n",
       "    <tr>\n",
       "      <th>1294</th>\n",
       "      <td>707995814724026368</td>\n",
       "      <td>This is Farfle. He lost his back legs during the Battle of Gettysburg. Goes 0-60 in 4.3 seconds (damn) 12/10 hero af https://t.co/NiQQWzIzzq</td>\n",
       "      <td>12</td>\n",
       "      <td>10</td>\n",
       "      <td>Farfle</td>\n",
       "      <td>None</td>\n",
       "      <td>None</td>\n",
       "      <td>None</td>\n",
       "      <td>None</td>\n",
       "      <td>2016</td>\n",
       "      <td>March</td>\n",
       "    </tr>\n",
       "    <tr>\n",
       "      <th>1768</th>\n",
       "      <td>678389028614488064</td>\n",
       "      <td>This is Bella. She just learned that her final grade in chem was a 92.49 \\npoor pupper 11/10 https://t.co/auOoKuoveM</td>\n",
       "      <td>11</td>\n",
       "      <td>10</td>\n",
       "      <td>Bella</td>\n",
       "      <td>None</td>\n",
       "      <td>None</td>\n",
       "      <td>pupper</td>\n",
       "      <td>None</td>\n",
       "      <td>2015</td>\n",
       "      <td>December</td>\n",
       "    </tr>\n",
       "    <tr>\n",
       "      <th>1790</th>\n",
       "      <td>677530072887205888</td>\n",
       "      <td>Say hello to Axel. He's a Black Chevy Pinot on wheels. 0 to 60 in 5.7 seconds (if downhill). 9/10 I call shotgun https://t.co/DKe9DBnnHE</td>\n",
       "      <td>9</td>\n",
       "      <td>10</td>\n",
       "      <td>Axel</td>\n",
       "      <td>None</td>\n",
       "      <td>None</td>\n",
       "      <td>None</td>\n",
       "      <td>None</td>\n",
       "      <td>2015</td>\n",
       "      <td>December</td>\n",
       "    </tr>\n",
       "    <tr>\n",
       "      <th>2347</th>\n",
       "      <td>666057090499244032</td>\n",
       "      <td>My oh my. This is a rare blond Canadian terrier on wheels. Only $8.98. Rather docile. 9/10 very rare https://t.co/yWBqbrzy8O</td>\n",
       "      <td>9</td>\n",
       "      <td>10</td>\n",
       "      <td>a</td>\n",
       "      <td>None</td>\n",
       "      <td>None</td>\n",
       "      <td>None</td>\n",
       "      <td>None</td>\n",
       "      <td>2015</td>\n",
       "      <td>November</td>\n",
       "    </tr>\n",
       "  </tbody>\n",
       "</table>\n",
       "</div>"
      ],
      "text/plain": [
       "                tweet_id  \\\n",
       "45    883482846933004288   \n",
       "259   843235543001513987   \n",
       "695   786709082849828864   \n",
       "763   778027034220126208   \n",
       "1018  746818907684614144   \n",
       "1294  707995814724026368   \n",
       "1768  678389028614488064   \n",
       "1790  677530072887205888   \n",
       "2347  666057090499244032   \n",
       "\n",
       "                                                                                                                                                                   text  \\\n",
       "45                             This is Bella. She hopes her smile made you smile. If not, she is also offering you her favorite monkey. 13.5/10 https://t.co/qjrljjt948   \n",
       "259                      This is Tycho. She just had new wheels installed. About to do a zoom. 0-60 in 2.4 seconds. 13/10 inspirational as h*ck https://t.co/DKwp2ByMsL   \n",
       "695                                    This is Logan, the Chow who lived. He solemnly swears he's up to lots of good. H*ckin magical af 9.75/10 https://t.co/yBO5wuqaPS   \n",
       "763   This is Sophie. She's a Jubilant Bush Pupper. Super h*ckin rare. Appears at random just to smile at the locals. 11.27/10 would smile back https://t.co/QFaUiIHxHq   \n",
       "1018                                                                                                    Guys... Dog Jesus 2.0\\n13/10 buoyant af https://t.co/CuNA7OwfKQ   \n",
       "1294                       This is Farfle. He lost his back legs during the Battle of Gettysburg. Goes 0-60 in 4.3 seconds (damn) 12/10 hero af https://t.co/NiQQWzIzzq   \n",
       "1768                                               This is Bella. She just learned that her final grade in chem was a 92.49 \\npoor pupper 11/10 https://t.co/auOoKuoveM   \n",
       "1790                           Say hello to Axel. He's a Black Chevy Pinot on wheels. 0 to 60 in 5.7 seconds (if downhill). 9/10 I call shotgun https://t.co/DKe9DBnnHE   \n",
       "2347                                       My oh my. This is a rare blond Canadian terrier on wheels. Only $8.98. Rather docile. 9/10 very rare https://t.co/yWBqbrzy8O   \n",
       "\n",
       "      rating_numerator  rating_denominator    name doggo floofer  pupper  \\\n",
       "45                  13                  10   Bella  None    None    None   \n",
       "259                 13                  10   Tycho  None    None    None   \n",
       "695                  9                  10   Logan  None    None    None   \n",
       "763                 11                  10  Sophie  None    None  pupper   \n",
       "1018                13                  10    None  None    None    None   \n",
       "1294                12                  10  Farfle  None    None    None   \n",
       "1768                11                  10   Bella  None    None  pupper   \n",
       "1790                 9                  10    Axel  None    None    None   \n",
       "2347                 9                  10       a  None    None    None   \n",
       "\n",
       "     puppo  year      month  \n",
       "45    None  2017       July  \n",
       "259   None  2017      March  \n",
       "695   None  2016    October  \n",
       "763   None  2016  September  \n",
       "1018  None  2016       June  \n",
       "1294  None  2016      March  \n",
       "1768  None  2015   December  \n",
       "1790  None  2015   December  \n",
       "2347  None  2015   November  "
      ]
     },
     "execution_count": 17,
     "metadata": {},
     "output_type": "execute_result"
    }
   ],
   "source": [
    "tweet_archive.loc[tweet_archive.index.isin([45, 259, 695, 763, 1018, 1294, 1768, 1790, 2347])]"
   ]
  },
  {
   "cell_type": "code",
   "execution_count": 18,
   "id": "1286bc45",
   "metadata": {},
   "outputs": [],
   "source": [
    "#drop rating_numerator and denominator == 0\n",
    "tweet_archive = tweet_archive.query('rating_numerator != 0 & rating_denominator != 0')"
   ]
  },
  {
   "cell_type": "code",
   "execution_count": 19,
   "id": "eed2f78a",
   "metadata": {},
   "outputs": [
    {
     "data": {
      "text/plain": [
       "array([  13,   12,   14,   17,   11,   10,  420,  666,    6,   15,  182,\n",
       "          9,    7,   84,   24,    8,    1,    3,    4,  165, 1776,  204,\n",
       "         50,   99,   80,   45,   60,   44,  143,  121,   20,    2,  144,\n",
       "         88], dtype=int64)"
      ]
     },
     "execution_count": 19,
     "metadata": {},
     "output_type": "execute_result"
    }
   ],
   "source": [
    "tweet_archive.rating_numerator.unique()"
   ]
  },
  {
   "cell_type": "code",
   "execution_count": 29,
   "id": "297ae368",
   "metadata": {},
   "outputs": [],
   "source": [
    "#drop comment rows\n",
    "#comment = [1896, 1689, 1116, 1726, 1712] \n",
    "#tweet_archive = tweet_archive.drop(comment, axis = 0, inplace = True)"
   ]
  },
  {
   "cell_type": "code",
   "execution_count": null,
   "id": "fd1b452b",
   "metadata": {},
   "outputs": [],
   "source": []
  },
  {
   "cell_type": "markdown",
   "id": "0cd54db3",
   "metadata": {},
   "source": [
    "# Issue: #4"
   ]
  },
  {
   "cell_type": "markdown",
   "id": "e87d4f4c",
   "metadata": {},
   "source": [
    "Define: Some entries are retweets and not tweets itself"
   ]
  },
  {
   "cell_type": "markdown",
   "id": "5c498bbe",
   "metadata": {},
   "source": [
    "Code"
   ]
  },
  {
   "cell_type": "code",
   "execution_count": 20,
   "id": "aaa2a978",
   "metadata": {},
   "outputs": [],
   "source": [
    "#Visual assessment with Microsoft Excel shows that most retweets start with @, RT and .@\n",
    "#Regex function to extract text columns that start with @, RT and .@\n",
    "retweet = []\n",
    "p = r'^(@|RT|.@)'\n",
    "for row in tweet_archive.text:\n",
    "    if re.findall(p, row):\n",
    "        retweet.append(row)  "
   ]
  },
  {
   "cell_type": "code",
   "execution_count": 21,
   "id": "df95aeba",
   "metadata": {},
   "outputs": [],
   "source": [
    "#convert the index of the extract to list\n",
    "retweet_index = list(tweet_archive.loc[tweet_archive.text.isin(retweet)].index)"
   ]
  },
  {
   "cell_type": "code",
   "execution_count": 24,
   "id": "0cd9960b",
   "metadata": {},
   "outputs": [],
   "source": [
    "#tweet_archive.query('text.isin(retweet)')"
   ]
  },
  {
   "cell_type": "code",
   "execution_count": 22,
   "id": "3ac487a6",
   "metadata": {},
   "outputs": [
    {
     "data": {
      "text/plain": [
       "207"
      ]
     },
     "execution_count": 22,
     "metadata": {},
     "output_type": "execute_result"
    }
   ],
   "source": [
    "len(retweet_index)"
   ]
  },
  {
   "cell_type": "code",
   "execution_count": 23,
   "id": "7636e05e",
   "metadata": {},
   "outputs": [],
   "source": [
    "#visual assessment with Microsoft Excel shows that most retweets start with @\n",
    "#Drop any row in text column that starts with @\n",
    "\n",
    "#tweet_archive = tweet_archive.loc[tweet_archive.index not in retweet_index]\n",
    "\n",
    "tweet_archive.drop(retweet_index, axis = 0, inplace = True)\n"
   ]
  },
  {
   "cell_type": "code",
   "execution_count": 28,
   "id": "ffba1c3a",
   "metadata": {},
   "outputs": [],
   "source": [
    "#tweet_archive.to_csv('weratedog.csv') # saved for further visual assessment with excel\n",
    "#tweet_archive.text.sample(20)"
   ]
  },
  {
   "cell_type": "code",
   "execution_count": 31,
   "id": "5a92928e",
   "metadata": {},
   "outputs": [],
   "source": [
    "#tweet_archive[tweet_archive.index == 1896] #This mere comment and will be dropped"
   ]
  },
  {
   "cell_type": "code",
   "execution_count": 32,
   "id": "1862c2a2",
   "metadata": {},
   "outputs": [],
   "source": [
    "#tweet_archive[tweet_archive.index == 1689]"
   ]
  },
  {
   "cell_type": "code",
   "execution_count": 33,
   "id": "2c9a1938",
   "metadata": {},
   "outputs": [],
   "source": []
  },
  {
   "cell_type": "code",
   "execution_count": 43,
   "id": "d02d7f4d",
   "metadata": {},
   "outputs": [],
   "source": [
    "#tweet_archive[tweet_archive.index == 1689]"
   ]
  },
  {
   "cell_type": "markdown",
   "id": "56360a67",
   "metadata": {},
   "source": [
    "# Issue #5"
   ]
  },
  {
   "cell_type": "markdown",
   "id": "fa0471d4",
   "metadata": {},
   "source": [
    "Define: Some entries ain't dogs"
   ]
  },
  {
   "cell_type": "markdown",
   "id": "69f59eb7",
   "metadata": {},
   "source": [
    "code"
   ]
  },
  {
   "cell_type": "raw",
   "id": "6394e86f",
   "metadata": {},
   "source": [
    "Visual assessment with Microsoft Excel shows that retweets that ain't dog tweet have some features which are:\n",
    "        1. Please only dogs\n",
    "        2. We only rate dogs\n",
    "        3. Please don't send in photos without dogs in them\n",
    "        4.Without a dog\n",
    "        5. Don't rate\n",
    "        6. Without any dogs\n",
    "        7. Black bears\n",
    "        8. Monkey\n",
    "        9. HI. MY.\n",
    "        10. We. only. rate. dogs."
   ]
  },
  {
   "cell_type": "code",
   "execution_count": 24,
   "id": "7f2d6093",
   "metadata": {},
   "outputs": [],
   "source": [
    "#Regex function to extract text rows that have the features\n",
    "#extracting rows tweet not about dogs, that is having any of the listed features above.\n",
    "not_dogs = [] #store the extract in a list\n",
    "q = r\"^(We. Only. Rate. Dogs.|HI.)\"\n",
    "p = r\"(without a dog|please only dogs| We only rate dogs| don't rate| without any dogs|Black bears| Monkey|without dogs| only rate dogs|Please stop sending|stop sending)\"\n",
    "for row in tweet_archive.text:\n",
    "    if (re.findall(p, row)) or (re.findall(q, row)):\n",
    "        not_dogs.append(row)"
   ]
  },
  {
   "cell_type": "code",
   "execution_count": 62,
   "id": "3fa43716",
   "metadata": {},
   "outputs": [],
   "source": [
    "#not_dogs"
   ]
  },
  {
   "cell_type": "code",
   "execution_count": 25,
   "id": "90f7e907",
   "metadata": {},
   "outputs": [],
   "source": [
    "#store the rows the that have the extracts in list\n",
    "not_dogs_index = list(tweet_archive.loc[tweet_archive.text.isin(not_dogs)].index)"
   ]
  },
  {
   "cell_type": "code",
   "execution_count": 30,
   "id": "cbbd81da",
   "metadata": {},
   "outputs": [],
   "source": [
    "#not_dogs_index"
   ]
  },
  {
   "cell_type": "code",
   "execution_count": 31,
   "id": "959ad240",
   "metadata": {},
   "outputs": [],
   "source": [
    "#tweet_archive[tweet_archive.index == 213].text"
   ]
  },
  {
   "cell_type": "code",
   "execution_count": 26,
   "id": "d87ab615",
   "metadata": {},
   "outputs": [
    {
     "data": {
      "text/html": [
       "<div>\n",
       "<style scoped>\n",
       "    .dataframe tbody tr th:only-of-type {\n",
       "        vertical-align: middle;\n",
       "    }\n",
       "\n",
       "    .dataframe tbody tr th {\n",
       "        vertical-align: top;\n",
       "    }\n",
       "\n",
       "    .dataframe thead th {\n",
       "        text-align: right;\n",
       "    }\n",
       "</style>\n",
       "<table border=\"1\" class=\"dataframe\">\n",
       "  <thead>\n",
       "    <tr style=\"text-align: right;\">\n",
       "      <th></th>\n",
       "      <th>tweet_id</th>\n",
       "      <th>text</th>\n",
       "      <th>rating_numerator</th>\n",
       "      <th>rating_denominator</th>\n",
       "      <th>name</th>\n",
       "      <th>doggo</th>\n",
       "      <th>floofer</th>\n",
       "      <th>pupper</th>\n",
       "      <th>puppo</th>\n",
       "      <th>year</th>\n",
       "      <th>month</th>\n",
       "    </tr>\n",
       "  </thead>\n",
       "  <tbody>\n",
       "    <tr>\n",
       "      <th>25</th>\n",
       "      <td>887101392804085760</td>\n",
       "      <td>This... is a Jubilant Antarctic House Bear. We only rate dogs. Please only send dogs. Thank you... 12/10 would suffocate in floof https://t.co/4Ad1jzJSdp</td>\n",
       "      <td>12</td>\n",
       "      <td>10</td>\n",
       "      <td>None</td>\n",
       "      <td>None</td>\n",
       "      <td>None</td>\n",
       "      <td>None</td>\n",
       "      <td>None</td>\n",
       "      <td>2017</td>\n",
       "      <td>July</td>\n",
       "    </tr>\n",
       "    <tr>\n",
       "      <th>47</th>\n",
       "      <td>883117836046086144</td>\n",
       "      <td>Please only send dogs. We don't rate mechanics, no matter how h*ckin good. Thank you... 13/10 would sneak a pat https://t.co/Se5fZ9wp5E</td>\n",
       "      <td>13</td>\n",
       "      <td>10</td>\n",
       "      <td>None</td>\n",
       "      <td>None</td>\n",
       "      <td>None</td>\n",
       "      <td>None</td>\n",
       "      <td>None</td>\n",
       "      <td>2017</td>\n",
       "      <td>July</td>\n",
       "    </tr>\n",
       "    <tr>\n",
       "      <th>59</th>\n",
       "      <td>880872448815771648</td>\n",
       "      <td>Ugh not again. We only rate dogs. Please don't send in well-dressed  floppy-tongued street penguins. Dogs only please. Thank you... 12/10 https://t.co/WiAMbTkDPf</td>\n",
       "      <td>12</td>\n",
       "      <td>10</td>\n",
       "      <td>None</td>\n",
       "      <td>None</td>\n",
       "      <td>None</td>\n",
       "      <td>None</td>\n",
       "      <td>None</td>\n",
       "      <td>2017</td>\n",
       "      <td>June</td>\n",
       "    </tr>\n",
       "    <tr>\n",
       "      <th>62</th>\n",
       "      <td>880095782870896641</td>\n",
       "      <td>Please don't send in photos without dogs in them. We're not @porch_rates. Insubordinate and churlish. Pretty good porch tho 11/10 https://t.co/HauE8M3Bu4</td>\n",
       "      <td>11</td>\n",
       "      <td>10</td>\n",
       "      <td>None</td>\n",
       "      <td>None</td>\n",
       "      <td>None</td>\n",
       "      <td>None</td>\n",
       "      <td>None</td>\n",
       "      <td>2017</td>\n",
       "      <td>June</td>\n",
       "    </tr>\n",
       "    <tr>\n",
       "      <th>89</th>\n",
       "      <td>875021211251597312</td>\n",
       "      <td>Guys please stop sending pictures without any dogs in th- oh never mind hello excuse me sir. 12/10 stealthy as h*ck https://t.co/brCQoqc8AW</td>\n",
       "      <td>12</td>\n",
       "      <td>10</td>\n",
       "      <td>None</td>\n",
       "      <td>None</td>\n",
       "      <td>None</td>\n",
       "      <td>None</td>\n",
       "      <td>None</td>\n",
       "      <td>2017</td>\n",
       "      <td>June</td>\n",
       "    </tr>\n",
       "    <tr>\n",
       "      <th>...</th>\n",
       "      <td>...</td>\n",
       "      <td>...</td>\n",
       "      <td>...</td>\n",
       "      <td>...</td>\n",
       "      <td>...</td>\n",
       "      <td>...</td>\n",
       "      <td>...</td>\n",
       "      <td>...</td>\n",
       "      <td>...</td>\n",
       "      <td>...</td>\n",
       "      <td>...</td>\n",
       "    </tr>\n",
       "    <tr>\n",
       "      <th>1778</th>\n",
       "      <td>677895101218201600</td>\n",
       "      <td>Guys this was terrifying. Really spooked me up. We don't rate ghosts. We rate dogs. Please only send dogs... 9/10 https://t.co/EJImi1udYb</td>\n",
       "      <td>9</td>\n",
       "      <td>10</td>\n",
       "      <td>None</td>\n",
       "      <td>None</td>\n",
       "      <td>None</td>\n",
       "      <td>None</td>\n",
       "      <td>None</td>\n",
       "      <td>2015</td>\n",
       "      <td>December</td>\n",
       "    </tr>\n",
       "    <tr>\n",
       "      <th>1854</th>\n",
       "      <td>675534494439489536</td>\n",
       "      <td>Seriously guys?! Only send in dogs. I only rate dogs. This is a baby black bear... 11/10 https://t.co/H7kpabTfLj</td>\n",
       "      <td>11</td>\n",
       "      <td>10</td>\n",
       "      <td>a</td>\n",
       "      <td>None</td>\n",
       "      <td>None</td>\n",
       "      <td>None</td>\n",
       "      <td>None</td>\n",
       "      <td>2015</td>\n",
       "      <td>December</td>\n",
       "    </tr>\n",
       "    <tr>\n",
       "      <th>1869</th>\n",
       "      <td>675153376133427200</td>\n",
       "      <td>What kind of person sends in a picture without a dog in it? 1/10 just because that's a nice table https://t.co/RDXCfk8hK0</td>\n",
       "      <td>1</td>\n",
       "      <td>10</td>\n",
       "      <td>None</td>\n",
       "      <td>None</td>\n",
       "      <td>None</td>\n",
       "      <td>None</td>\n",
       "      <td>None</td>\n",
       "      <td>2015</td>\n",
       "      <td>December</td>\n",
       "    </tr>\n",
       "    <tr>\n",
       "      <th>1877</th>\n",
       "      <td>675109292475830276</td>\n",
       "      <td>C'mon guys. We've been over this. We only rate dogs. This is a cow. Please only submit dogs. Thank you...... 9/10 https://t.co/WjcELNEqN2</td>\n",
       "      <td>9</td>\n",
       "      <td>10</td>\n",
       "      <td>a</td>\n",
       "      <td>None</td>\n",
       "      <td>None</td>\n",
       "      <td>None</td>\n",
       "      <td>None</td>\n",
       "      <td>2015</td>\n",
       "      <td>December</td>\n",
       "    </tr>\n",
       "    <tr>\n",
       "      <th>1938</th>\n",
       "      <td>673906403526995968</td>\n",
       "      <td>Guys I'm getting real tired of this. We only rate dogs. Please don't send in other things like this Bulbasaur. 3/10 https://t.co/t5rQHl6W8M</td>\n",
       "      <td>3</td>\n",
       "      <td>10</td>\n",
       "      <td>None</td>\n",
       "      <td>None</td>\n",
       "      <td>None</td>\n",
       "      <td>None</td>\n",
       "      <td>None</td>\n",
       "      <td>2015</td>\n",
       "      <td>December</td>\n",
       "    </tr>\n",
       "  </tbody>\n",
       "</table>\n",
       "<p>85 rows × 11 columns</p>\n",
       "</div>"
      ],
      "text/plain": [
       "                tweet_id  \\\n",
       "25    887101392804085760   \n",
       "47    883117836046086144   \n",
       "59    880872448815771648   \n",
       "62    880095782870896641   \n",
       "89    875021211251597312   \n",
       "...                  ...   \n",
       "1778  677895101218201600   \n",
       "1854  675534494439489536   \n",
       "1869  675153376133427200   \n",
       "1877  675109292475830276   \n",
       "1938  673906403526995968   \n",
       "\n",
       "                                                                                                                                                                   text  \\\n",
       "25            This... is a Jubilant Antarctic House Bear. We only rate dogs. Please only send dogs. Thank you... 12/10 would suffocate in floof https://t.co/4Ad1jzJSdp   \n",
       "47                              Please only send dogs. We don't rate mechanics, no matter how h*ckin good. Thank you... 13/10 would sneak a pat https://t.co/Se5fZ9wp5E   \n",
       "59    Ugh not again. We only rate dogs. Please don't send in well-dressed  floppy-tongued street penguins. Dogs only please. Thank you... 12/10 https://t.co/WiAMbTkDPf   \n",
       "62            Please don't send in photos without dogs in them. We're not @porch_rates. Insubordinate and churlish. Pretty good porch tho 11/10 https://t.co/HauE8M3Bu4   \n",
       "89                          Guys please stop sending pictures without any dogs in th- oh never mind hello excuse me sir. 12/10 stealthy as h*ck https://t.co/brCQoqc8AW   \n",
       "...                                                                                                                                                                 ...   \n",
       "1778                          Guys this was terrifying. Really spooked me up. We don't rate ghosts. We rate dogs. Please only send dogs... 9/10 https://t.co/EJImi1udYb   \n",
       "1854                                                   Seriously guys?! Only send in dogs. I only rate dogs. This is a baby black bear... 11/10 https://t.co/H7kpabTfLj   \n",
       "1869                                          What kind of person sends in a picture without a dog in it? 1/10 just because that's a nice table https://t.co/RDXCfk8hK0   \n",
       "1877                          C'mon guys. We've been over this. We only rate dogs. This is a cow. Please only submit dogs. Thank you...... 9/10 https://t.co/WjcELNEqN2   \n",
       "1938                        Guys I'm getting real tired of this. We only rate dogs. Please don't send in other things like this Bulbasaur. 3/10 https://t.co/t5rQHl6W8M   \n",
       "\n",
       "      rating_numerator  rating_denominator  name doggo floofer pupper puppo  \\\n",
       "25                  12                  10  None  None    None   None  None   \n",
       "47                  13                  10  None  None    None   None  None   \n",
       "59                  12                  10  None  None    None   None  None   \n",
       "62                  11                  10  None  None    None   None  None   \n",
       "89                  12                  10  None  None    None   None  None   \n",
       "...                ...                 ...   ...   ...     ...    ...   ...   \n",
       "1778                 9                  10  None  None    None   None  None   \n",
       "1854                11                  10     a  None    None   None  None   \n",
       "1869                 1                  10  None  None    None   None  None   \n",
       "1877                 9                  10     a  None    None   None  None   \n",
       "1938                 3                  10  None  None    None   None  None   \n",
       "\n",
       "      year     month  \n",
       "25    2017      July  \n",
       "47    2017      July  \n",
       "59    2017      June  \n",
       "62    2017      June  \n",
       "89    2017      June  \n",
       "...    ...       ...  \n",
       "1778  2015  December  \n",
       "1854  2015  December  \n",
       "1869  2015  December  \n",
       "1877  2015  December  \n",
       "1938  2015  December  \n",
       "\n",
       "[85 rows x 11 columns]"
      ]
     },
     "execution_count": 26,
     "metadata": {},
     "output_type": "execute_result"
    }
   ],
   "source": [
    "tweet_archive.loc[tweet_archive.index.isin(not_dogs_index)] #locate the extract in the dataset, tweet_archive"
   ]
  },
  {
   "cell_type": "code",
   "execution_count": 27,
   "id": "3d04060a",
   "metadata": {},
   "outputs": [],
   "source": [
    "tweet_archive.drop(not_dogs_index, axis = 0, inplace = True) #drop the rows from the dataset"
   ]
  },
  {
   "cell_type": "code",
   "execution_count": 28,
   "id": "b8720baf",
   "metadata": {},
   "outputs": [],
   "source": [
    "tweet_archive.to_csv('weratedog.csv') #save as csv file for futher visual assessment in Microsoft Excel"
   ]
  },
  {
   "cell_type": "markdown",
   "id": "6cee1e7d",
   "metadata": {},
   "source": [
    "# Issue #6:"
   ]
  },
  {
   "cell_type": "markdown",
   "id": "391e9886",
   "metadata": {},
   "source": [
    "Define: Inconsistency in name format for dogs (a, none, the, one, my etc)"
   ]
  },
  {
   "cell_type": "markdown",
   "id": "b7ec9bab",
   "metadata": {},
   "source": [
    "code"
   ]
  },
  {
   "cell_type": "code",
   "execution_count": 40,
   "id": "9ef2913a",
   "metadata": {
    "scrolled": true
   },
   "outputs": [
    {
     "data": {
      "text/html": [
       "<div>\n",
       "<style scoped>\n",
       "    .dataframe tbody tr th:only-of-type {\n",
       "        vertical-align: middle;\n",
       "    }\n",
       "\n",
       "    .dataframe tbody tr th {\n",
       "        vertical-align: top;\n",
       "    }\n",
       "\n",
       "    .dataframe thead th {\n",
       "        text-align: right;\n",
       "    }\n",
       "</style>\n",
       "<table border=\"1\" class=\"dataframe\">\n",
       "  <thead>\n",
       "    <tr style=\"text-align: right;\">\n",
       "      <th></th>\n",
       "      <th>tweet_id</th>\n",
       "      <th>text</th>\n",
       "      <th>rating_numerator</th>\n",
       "      <th>rating_denominator</th>\n",
       "      <th>name</th>\n",
       "      <th>doggo</th>\n",
       "      <th>floofer</th>\n",
       "      <th>pupper</th>\n",
       "      <th>puppo</th>\n",
       "      <th>year</th>\n",
       "      <th>month</th>\n",
       "    </tr>\n",
       "  </thead>\n",
       "  <tbody>\n",
       "    <tr>\n",
       "      <th>1916</th>\n",
       "      <td>674307341513269249</td>\n",
       "      <td>This is life-changing. 12/10 https://t.co/SroTpI6psB</td>\n",
       "      <td>12</td>\n",
       "      <td>10</td>\n",
       "      <td>life</td>\n",
       "      <td>None</td>\n",
       "      <td>None</td>\n",
       "      <td>None</td>\n",
       "      <td>None</td>\n",
       "      <td>2015</td>\n",
       "      <td>December</td>\n",
       "    </tr>\n",
       "  </tbody>\n",
       "</table>\n",
       "</div>"
      ],
      "text/plain": [
       "                tweet_id  \\\n",
       "1916  674307341513269249   \n",
       "\n",
       "                                                      text  rating_numerator  \\\n",
       "1916  This is life-changing. 12/10 https://t.co/SroTpI6psB                12   \n",
       "\n",
       "      rating_denominator  name doggo floofer pupper puppo  year     month  \n",
       "1916                  10  life  None    None   None  None  2015  December  "
      ]
     },
     "execution_count": 40,
     "metadata": {},
     "output_type": "execute_result"
    }
   ],
   "source": [
    "tweet_archive[tweet_archive.name == 'life']"
   ]
  },
  {
   "cell_type": "code",
   "execution_count": 137,
   "id": "3d176093",
   "metadata": {},
   "outputs": [],
   "source": [
    "#tweet_archive.name.unique()"
   ]
  },
  {
   "cell_type": "code",
   "execution_count": 140,
   "id": "124a3df0",
   "metadata": {},
   "outputs": [],
   "source": [
    "#name_index = tweet_archive[tweet_archive.name.isin(['officially', 'None', 'such',\n",
    "#                                       'all', 'the', 'just', 'old', 'by', 'life'])].index"
   ]
  },
  {
   "cell_type": "code",
   "execution_count": 29,
   "id": "0f8e67b8",
   "metadata": {},
   "outputs": [],
   "source": [
    "#Replace all name with the features in the list with None\n",
    "name_lst = ['officially', 'None', 'such', 'all', 'the', 'just', 'old', 'by', 'life', 'a', 'one', 'my', 'mad']\n",
    "for item in name_lst:\n",
    "    tweet_archive.name.replace(item, 'None', inplace = True)\n"
   ]
  },
  {
   "cell_type": "markdown",
   "id": "aea238f8",
   "metadata": {},
   "source": [
    "Test"
   ]
  },
  {
   "cell_type": "code",
   "execution_count": 30,
   "id": "ef20d6bb",
   "metadata": {},
   "outputs": [
    {
     "data": {
      "text/html": [
       "<div>\n",
       "<style scoped>\n",
       "    .dataframe tbody tr th:only-of-type {\n",
       "        vertical-align: middle;\n",
       "    }\n",
       "\n",
       "    .dataframe tbody tr th {\n",
       "        vertical-align: top;\n",
       "    }\n",
       "\n",
       "    .dataframe thead th {\n",
       "        text-align: right;\n",
       "    }\n",
       "</style>\n",
       "<table border=\"1\" class=\"dataframe\">\n",
       "  <thead>\n",
       "    <tr style=\"text-align: right;\">\n",
       "      <th></th>\n",
       "      <th>tweet_id</th>\n",
       "      <th>text</th>\n",
       "      <th>rating_numerator</th>\n",
       "      <th>rating_denominator</th>\n",
       "      <th>name</th>\n",
       "      <th>doggo</th>\n",
       "      <th>floofer</th>\n",
       "      <th>pupper</th>\n",
       "      <th>puppo</th>\n",
       "      <th>year</th>\n",
       "      <th>month</th>\n",
       "    </tr>\n",
       "  </thead>\n",
       "  <tbody>\n",
       "    <tr>\n",
       "      <th>2201</th>\n",
       "      <td>668645506898350081</td>\n",
       "      <td>Incredibly rare dog here. Good at bipedalism. Rad blue spikes. Ready to dance. 11/10 https://t.co/70X1TIXn38</td>\n",
       "      <td>11</td>\n",
       "      <td>10</td>\n",
       "      <td>None</td>\n",
       "      <td>None</td>\n",
       "      <td>None</td>\n",
       "      <td>None</td>\n",
       "      <td>None</td>\n",
       "      <td>2015</td>\n",
       "      <td>November</td>\n",
       "    </tr>\n",
       "    <tr>\n",
       "      <th>1584</th>\n",
       "      <td>687096057537363968</td>\n",
       "      <td>This pupper's New Year's resolution was to become a Hershey's kiss. 11/10 she's super pumped about it https://t.co/D7jYj6vdwC</td>\n",
       "      <td>11</td>\n",
       "      <td>10</td>\n",
       "      <td>None</td>\n",
       "      <td>None</td>\n",
       "      <td>None</td>\n",
       "      <td>pupper</td>\n",
       "      <td>None</td>\n",
       "      <td>2016</td>\n",
       "      <td>January</td>\n",
       "    </tr>\n",
       "    <tr>\n",
       "      <th>2288</th>\n",
       "      <td>667176164155375616</td>\n",
       "      <td>These are strange dogs. All have toupees. Long neck for dogs. In a shed of sorts? Work in groups? 4/10 still petable https://t.co/PZxSarAfSN</td>\n",
       "      <td>4</td>\n",
       "      <td>10</td>\n",
       "      <td>None</td>\n",
       "      <td>None</td>\n",
       "      <td>None</td>\n",
       "      <td>None</td>\n",
       "      <td>None</td>\n",
       "      <td>2015</td>\n",
       "      <td>November</td>\n",
       "    </tr>\n",
       "    <tr>\n",
       "      <th>647</th>\n",
       "      <td>793135492858580992</td>\n",
       "      <td>Your favorite squad is looking extra h*ckin spooky today. 13/10 for all https://t.co/PrgvOyPtDT</td>\n",
       "      <td>13</td>\n",
       "      <td>10</td>\n",
       "      <td>None</td>\n",
       "      <td>None</td>\n",
       "      <td>None</td>\n",
       "      <td>None</td>\n",
       "      <td>None</td>\n",
       "      <td>2016</td>\n",
       "      <td>October</td>\n",
       "    </tr>\n",
       "    <tr>\n",
       "      <th>1108</th>\n",
       "      <td>734559631394082816</td>\n",
       "      <td>When your friend is turnt af and you're just trying to chill. 10/10 (vid by @presgang) https://t.co/OufVDk23JC</td>\n",
       "      <td>10</td>\n",
       "      <td>10</td>\n",
       "      <td>None</td>\n",
       "      <td>None</td>\n",
       "      <td>None</td>\n",
       "      <td>None</td>\n",
       "      <td>None</td>\n",
       "      <td>2016</td>\n",
       "      <td>May</td>\n",
       "    </tr>\n",
       "    <tr>\n",
       "      <th>1784</th>\n",
       "      <td>677662372920729601</td>\n",
       "      <td>In honor of the new Star Wars movie. Here's Yoda pug. 12/10 pet really well, would I https://t.co/pvjdRn00XH</td>\n",
       "      <td>12</td>\n",
       "      <td>10</td>\n",
       "      <td>None</td>\n",
       "      <td>None</td>\n",
       "      <td>None</td>\n",
       "      <td>None</td>\n",
       "      <td>None</td>\n",
       "      <td>2015</td>\n",
       "      <td>December</td>\n",
       "    </tr>\n",
       "    <tr>\n",
       "      <th>781</th>\n",
       "      <td>775729183532220416</td>\n",
       "      <td>This girl straight up rejected a guy because he doesn't like dogs. She is my hero and I give her 13/10 https://t.co/J39lT3b0rH</td>\n",
       "      <td>13</td>\n",
       "      <td>10</td>\n",
       "      <td>None</td>\n",
       "      <td>None</td>\n",
       "      <td>None</td>\n",
       "      <td>None</td>\n",
       "      <td>None</td>\n",
       "      <td>2016</td>\n",
       "      <td>September</td>\n",
       "    </tr>\n",
       "    <tr>\n",
       "      <th>2037</th>\n",
       "      <td>671561002136281088</td>\n",
       "      <td>This is the best thing I've ever seen so spread it like wildfire &amp;amp; maybe we'll find the genius who created it. 13/10 https://t.co/q6RsuOVYwU</td>\n",
       "      <td>13</td>\n",
       "      <td>10</td>\n",
       "      <td>None</td>\n",
       "      <td>None</td>\n",
       "      <td>None</td>\n",
       "      <td>None</td>\n",
       "      <td>None</td>\n",
       "      <td>2015</td>\n",
       "      <td>December</td>\n",
       "    </tr>\n",
       "    <tr>\n",
       "      <th>1445</th>\n",
       "      <td>696518437233913856</td>\n",
       "      <td>Oh my god 10/10 for every little hot dog pupper</td>\n",
       "      <td>10</td>\n",
       "      <td>10</td>\n",
       "      <td>None</td>\n",
       "      <td>None</td>\n",
       "      <td>None</td>\n",
       "      <td>pupper</td>\n",
       "      <td>None</td>\n",
       "      <td>2016</td>\n",
       "      <td>February</td>\n",
       "    </tr>\n",
       "    <tr>\n",
       "      <th>2211</th>\n",
       "      <td>668614819948453888</td>\n",
       "      <td>Here is a horned dog. Much grace. Can jump over moons (dam!). Paws not soft. Bad at barking. 7/10 can still pet tho https://t.co/2Su7gmsnZm</td>\n",
       "      <td>7</td>\n",
       "      <td>10</td>\n",
       "      <td>None</td>\n",
       "      <td>None</td>\n",
       "      <td>None</td>\n",
       "      <td>None</td>\n",
       "      <td>None</td>\n",
       "      <td>2015</td>\n",
       "      <td>November</td>\n",
       "    </tr>\n",
       "  </tbody>\n",
       "</table>\n",
       "</div>"
      ],
      "text/plain": [
       "                tweet_id  \\\n",
       "2201  668645506898350081   \n",
       "1584  687096057537363968   \n",
       "2288  667176164155375616   \n",
       "647   793135492858580992   \n",
       "1108  734559631394082816   \n",
       "1784  677662372920729601   \n",
       "781   775729183532220416   \n",
       "2037  671561002136281088   \n",
       "1445  696518437233913856   \n",
       "2211  668614819948453888   \n",
       "\n",
       "                                                                                                                                                  text  \\\n",
       "2201                                      Incredibly rare dog here. Good at bipedalism. Rad blue spikes. Ready to dance. 11/10 https://t.co/70X1TIXn38   \n",
       "1584                     This pupper's New Year's resolution was to become a Hershey's kiss. 11/10 she's super pumped about it https://t.co/D7jYj6vdwC   \n",
       "2288      These are strange dogs. All have toupees. Long neck for dogs. In a shed of sorts? Work in groups? 4/10 still petable https://t.co/PZxSarAfSN   \n",
       "647                                                    Your favorite squad is looking extra h*ckin spooky today. 13/10 for all https://t.co/PrgvOyPtDT   \n",
       "1108                                    When your friend is turnt af and you're just trying to chill. 10/10 (vid by @presgang) https://t.co/OufVDk23JC   \n",
       "1784                                      In honor of the new Star Wars movie. Here's Yoda pug. 12/10 pet really well, would I https://t.co/pvjdRn00XH   \n",
       "781                     This girl straight up rejected a guy because he doesn't like dogs. She is my hero and I give her 13/10 https://t.co/J39lT3b0rH   \n",
       "2037  This is the best thing I've ever seen so spread it like wildfire &amp; maybe we'll find the genius who created it. 13/10 https://t.co/q6RsuOVYwU   \n",
       "1445                                                                                                   Oh my god 10/10 for every little hot dog pupper   \n",
       "2211       Here is a horned dog. Much grace. Can jump over moons (dam!). Paws not soft. Bad at barking. 7/10 can still pet tho https://t.co/2Su7gmsnZm   \n",
       "\n",
       "      rating_numerator  rating_denominator  name doggo floofer  pupper puppo  \\\n",
       "2201                11                  10  None  None    None    None  None   \n",
       "1584                11                  10  None  None    None  pupper  None   \n",
       "2288                 4                  10  None  None    None    None  None   \n",
       "647                 13                  10  None  None    None    None  None   \n",
       "1108                10                  10  None  None    None    None  None   \n",
       "1784                12                  10  None  None    None    None  None   \n",
       "781                 13                  10  None  None    None    None  None   \n",
       "2037                13                  10  None  None    None    None  None   \n",
       "1445                10                  10  None  None    None  pupper  None   \n",
       "2211                 7                  10  None  None    None    None  None   \n",
       "\n",
       "      year      month  \n",
       "2201  2015   November  \n",
       "1584  2016    January  \n",
       "2288  2015   November  \n",
       "647   2016    October  \n",
       "1108  2016        May  \n",
       "1784  2015   December  \n",
       "781   2016  September  \n",
       "2037  2015   December  \n",
       "1445  2016   February  \n",
       "2211  2015   November  "
      ]
     },
     "execution_count": 30,
     "metadata": {},
     "output_type": "execute_result"
    }
   ],
   "source": [
    "#tweet_archive.name.unique()\n",
    "tweet_archive[tweet_archive.name.isin(name_lst)].sample(10)"
   ]
  },
  {
   "cell_type": "code",
   "execution_count": 62,
   "id": "0b37cc4a",
   "metadata": {},
   "outputs": [],
   "source": [
    "#tweet_archive.drop('text', axis = 1, inplace = True) #drop text column\n",
    "#tweet_archive.head()"
   ]
  },
  {
   "cell_type": "code",
   "execution_count": null,
   "id": "7f668ada",
   "metadata": {},
   "outputs": [],
   "source": []
  },
  {
   "cell_type": "code",
   "execution_count": 36,
   "id": "15022381",
   "metadata": {},
   "outputs": [],
   "source": []
  },
  {
   "cell_type": "code",
   "execution_count": 123,
   "id": "79fdc89b",
   "metadata": {},
   "outputs": [],
   "source": [
    "#dogs_stage"
   ]
  },
  {
   "cell_type": "code",
   "execution_count": 37,
   "id": "b35ebb9c",
   "metadata": {},
   "outputs": [],
   "source": [
    "#Extract dog stage both in uppercase and lowercase\n",
    "#tweet_archive['dog_stage'] = tweet_archive['text'].str.extract(\"(doggo|pupper|floofer|puppo|Doggo|Pupper|Floofer|Puppo)\")"
   ]
  },
  {
   "cell_type": "code",
   "execution_count": 38,
   "id": "2585d46a",
   "metadata": {},
   "outputs": [],
   "source": [
    "#tweet_archive.dog_stage.value_counts()"
   ]
  },
  {
   "cell_type": "code",
   "execution_count": 40,
   "id": "e68b8831",
   "metadata": {},
   "outputs": [],
   "source": [
    "#replace the uppercase with lowercase\n",
    "#dog_stag = {'Doggo':'doggo', 'Pupper' : 'pupper', 'Floofer': 'floofer', 'Puppo':'puppo'}\n",
    "#tweet_archive.dog_stage.replace(dog_stag, inplace = True)"
   ]
  },
  {
   "cell_type": "code",
   "execution_count": 41,
   "id": "51eb6aae",
   "metadata": {},
   "outputs": [],
   "source": [
    "#tweet_archive.dog_stage.value_counts()"
   ]
  },
  {
   "cell_type": "code",
   "execution_count": 32,
   "id": "f785552f",
   "metadata": {},
   "outputs": [],
   "source": [
    "#drop text column from the dataset\n",
    "tweet_archive.drop('text', axis = 1, inplace = True)"
   ]
  },
  {
   "cell_type": "code",
   "execution_count": null,
   "id": "ef5e9ab9",
   "metadata": {},
   "outputs": [],
   "source": []
  },
  {
   "cell_type": "code",
   "execution_count": 33,
   "id": "27bf107f",
   "metadata": {},
   "outputs": [
    {
     "data": {
      "text/html": [
       "<div>\n",
       "<style scoped>\n",
       "    .dataframe tbody tr th:only-of-type {\n",
       "        vertical-align: middle;\n",
       "    }\n",
       "\n",
       "    .dataframe tbody tr th {\n",
       "        vertical-align: top;\n",
       "    }\n",
       "\n",
       "    .dataframe thead th {\n",
       "        text-align: right;\n",
       "    }\n",
       "</style>\n",
       "<table border=\"1\" class=\"dataframe\">\n",
       "  <thead>\n",
       "    <tr style=\"text-align: right;\">\n",
       "      <th></th>\n",
       "      <th>tweet_id</th>\n",
       "      <th>rating_numerator</th>\n",
       "      <th>rating_denominator</th>\n",
       "      <th>name</th>\n",
       "      <th>doggo</th>\n",
       "      <th>floofer</th>\n",
       "      <th>pupper</th>\n",
       "      <th>puppo</th>\n",
       "      <th>year</th>\n",
       "      <th>month</th>\n",
       "    </tr>\n",
       "  </thead>\n",
       "  <tbody>\n",
       "    <tr>\n",
       "      <th>0</th>\n",
       "      <td>892420643555336193</td>\n",
       "      <td>13</td>\n",
       "      <td>10</td>\n",
       "      <td>Phineas</td>\n",
       "      <td>None</td>\n",
       "      <td>None</td>\n",
       "      <td>None</td>\n",
       "      <td>None</td>\n",
       "      <td>2017</td>\n",
       "      <td>August</td>\n",
       "    </tr>\n",
       "    <tr>\n",
       "      <th>1</th>\n",
       "      <td>892177421306343426</td>\n",
       "      <td>13</td>\n",
       "      <td>10</td>\n",
       "      <td>Tilly</td>\n",
       "      <td>None</td>\n",
       "      <td>None</td>\n",
       "      <td>None</td>\n",
       "      <td>None</td>\n",
       "      <td>2017</td>\n",
       "      <td>August</td>\n",
       "    </tr>\n",
       "    <tr>\n",
       "      <th>2</th>\n",
       "      <td>891815181378084864</td>\n",
       "      <td>12</td>\n",
       "      <td>10</td>\n",
       "      <td>Archie</td>\n",
       "      <td>None</td>\n",
       "      <td>None</td>\n",
       "      <td>None</td>\n",
       "      <td>None</td>\n",
       "      <td>2017</td>\n",
       "      <td>July</td>\n",
       "    </tr>\n",
       "    <tr>\n",
       "      <th>3</th>\n",
       "      <td>891689557279858688</td>\n",
       "      <td>13</td>\n",
       "      <td>10</td>\n",
       "      <td>Darla</td>\n",
       "      <td>None</td>\n",
       "      <td>None</td>\n",
       "      <td>None</td>\n",
       "      <td>None</td>\n",
       "      <td>2017</td>\n",
       "      <td>July</td>\n",
       "    </tr>\n",
       "    <tr>\n",
       "      <th>4</th>\n",
       "      <td>891327558926688256</td>\n",
       "      <td>12</td>\n",
       "      <td>10</td>\n",
       "      <td>Franklin</td>\n",
       "      <td>None</td>\n",
       "      <td>None</td>\n",
       "      <td>None</td>\n",
       "      <td>None</td>\n",
       "      <td>2017</td>\n",
       "      <td>July</td>\n",
       "    </tr>\n",
       "    <tr>\n",
       "      <th>5</th>\n",
       "      <td>891087950875897856</td>\n",
       "      <td>13</td>\n",
       "      <td>10</td>\n",
       "      <td>None</td>\n",
       "      <td>None</td>\n",
       "      <td>None</td>\n",
       "      <td>None</td>\n",
       "      <td>None</td>\n",
       "      <td>2017</td>\n",
       "      <td>July</td>\n",
       "    </tr>\n",
       "    <tr>\n",
       "      <th>6</th>\n",
       "      <td>890971913173991426</td>\n",
       "      <td>13</td>\n",
       "      <td>10</td>\n",
       "      <td>Jax</td>\n",
       "      <td>None</td>\n",
       "      <td>None</td>\n",
       "      <td>None</td>\n",
       "      <td>None</td>\n",
       "      <td>2017</td>\n",
       "      <td>July</td>\n",
       "    </tr>\n",
       "    <tr>\n",
       "      <th>7</th>\n",
       "      <td>890729181411237888</td>\n",
       "      <td>13</td>\n",
       "      <td>10</td>\n",
       "      <td>None</td>\n",
       "      <td>None</td>\n",
       "      <td>None</td>\n",
       "      <td>None</td>\n",
       "      <td>None</td>\n",
       "      <td>2017</td>\n",
       "      <td>July</td>\n",
       "    </tr>\n",
       "    <tr>\n",
       "      <th>8</th>\n",
       "      <td>890609185150312448</td>\n",
       "      <td>13</td>\n",
       "      <td>10</td>\n",
       "      <td>Zoey</td>\n",
       "      <td>None</td>\n",
       "      <td>None</td>\n",
       "      <td>None</td>\n",
       "      <td>None</td>\n",
       "      <td>2017</td>\n",
       "      <td>July</td>\n",
       "    </tr>\n",
       "    <tr>\n",
       "      <th>9</th>\n",
       "      <td>890240255349198849</td>\n",
       "      <td>14</td>\n",
       "      <td>10</td>\n",
       "      <td>Cassie</td>\n",
       "      <td>doggo</td>\n",
       "      <td>None</td>\n",
       "      <td>None</td>\n",
       "      <td>None</td>\n",
       "      <td>2017</td>\n",
       "      <td>July</td>\n",
       "    </tr>\n",
       "  </tbody>\n",
       "</table>\n",
       "</div>"
      ],
      "text/plain": [
       "             tweet_id  rating_numerator  rating_denominator      name  doggo  \\\n",
       "0  892420643555336193                13                  10   Phineas   None   \n",
       "1  892177421306343426                13                  10     Tilly   None   \n",
       "2  891815181378084864                12                  10    Archie   None   \n",
       "3  891689557279858688                13                  10     Darla   None   \n",
       "4  891327558926688256                12                  10  Franklin   None   \n",
       "5  891087950875897856                13                  10      None   None   \n",
       "6  890971913173991426                13                  10       Jax   None   \n",
       "7  890729181411237888                13                  10      None   None   \n",
       "8  890609185150312448                13                  10      Zoey   None   \n",
       "9  890240255349198849                14                  10    Cassie  doggo   \n",
       "\n",
       "  floofer pupper puppo  year   month  \n",
       "0    None   None  None  2017  August  \n",
       "1    None   None  None  2017  August  \n",
       "2    None   None  None  2017    July  \n",
       "3    None   None  None  2017    July  \n",
       "4    None   None  None  2017    July  \n",
       "5    None   None  None  2017    July  \n",
       "6    None   None  None  2017    July  \n",
       "7    None   None  None  2017    July  \n",
       "8    None   None  None  2017    July  \n",
       "9    None   None  None  2017    July  "
      ]
     },
     "execution_count": 33,
     "metadata": {},
     "output_type": "execute_result"
    }
   ],
   "source": [
    "tweet_archive.head(10)"
   ]
  },
  {
   "cell_type": "code",
   "execution_count": 34,
   "id": "3499a3e7",
   "metadata": {},
   "outputs": [
    {
     "data": {
      "text/plain": [
       "(2061, 10)"
      ]
     },
     "execution_count": 34,
     "metadata": {},
     "output_type": "execute_result"
    }
   ],
   "source": [
    "tweet_archive.shape"
   ]
  },
  {
   "cell_type": "code",
   "execution_count": 39,
   "id": "174983fc",
   "metadata": {},
   "outputs": [],
   "source": [
    "#dogs_stage_index = list(tweet_archive.loc[tweet_archive.text.isin(dogs_stage)].index)\n",
    "#tweet_archive.loc[tweet_archive.index.isin(dogs_stage_index)] #locate the extract in the dataset, tweet_archive"
   ]
  },
  {
   "cell_type": "code",
   "execution_count": 407,
   "id": "f756b1d5",
   "metadata": {},
   "outputs": [],
   "source": [
    "#tweet_archive.query('floofer == \"floofer\"')"
   ]
  },
  {
   "cell_type": "code",
   "execution_count": 408,
   "id": "e83cae20",
   "metadata": {},
   "outputs": [],
   "source": [
    "#tweet_archive.query('doggo == \"doggo\" or floofer == \"floofer\" or pupper == \"pupper\" or puppo ==\" puppo\"')"
   ]
  },
  {
   "cell_type": "code",
   "execution_count": 301,
   "id": "1864501f",
   "metadata": {},
   "outputs": [],
   "source": [
    "#dogs_stage = [] #store the extract in a list\n",
    "#q = r\"^(Doggo|Pupper|Floofer|Puppo)\"\n",
    "#p = r\"(doggo| pupper|floofer|puppo)\"\n",
    "#for row in tweet_archive.text:\n",
    " #   if re.findall(p, row):\n",
    "  #      dogs_stage.append(re.findall(p, row))\n",
    "   # elif re.findall(q, row):\n",
    "    #    dogs_stage.append(re.findall(q, row))\n",
    "    #else:\n",
    "     #   dogs_stage.append('None') "
   ]
  },
  {
   "cell_type": "code",
   "execution_count": 319,
   "id": "2f0fd87a",
   "metadata": {},
   "outputs": [],
   "source": [
    "#stage_df = pd.DataFrame(dogs_stage)"
   ]
  },
  {
   "cell_type": "code",
   "execution_count": 409,
   "id": "7f8879d2",
   "metadata": {},
   "outputs": [],
   "source": [
    "#stage_df"
   ]
  },
  {
   "cell_type": "code",
   "execution_count": 410,
   "id": "4bfcb2ef",
   "metadata": {},
   "outputs": [],
   "source": [
    "#(stage_df.index == tweet_archive.index).all()"
   ]
  },
  {
   "cell_type": "code",
   "execution_count": 411,
   "id": "cb1a6266",
   "metadata": {},
   "outputs": [],
   "source": [
    "#tweet_archive.shape"
   ]
  },
  {
   "cell_type": "code",
   "execution_count": 413,
   "id": "a91d3115",
   "metadata": {},
   "outputs": [],
   "source": [
    "#stage_df.shape"
   ]
  },
  {
   "cell_type": "code",
   "execution_count": 414,
   "id": "fdb0c8f0",
   "metadata": {
    "scrolled": true
   },
   "outputs": [],
   "source": [
    "#tweet_archive.index"
   ]
  },
  {
   "cell_type": "code",
   "execution_count": 415,
   "id": "28c87d13",
   "metadata": {},
   "outputs": [],
   "source": [
    "#stage_df.index"
   ]
  },
  {
   "cell_type": "code",
   "execution_count": 416,
   "id": "d1bd3670",
   "metadata": {},
   "outputs": [],
   "source": [
    "#pd.merge(left = tweet_archive, right = stage_df, how = 'left', left_on = tweet_archive.index, right_on = stage_df.index)"
   ]
  },
  {
   "cell_type": "code",
   "execution_count": null,
   "id": "9d0ac6fe",
   "metadata": {},
   "outputs": [],
   "source": []
  },
  {
   "cell_type": "code",
   "execution_count": null,
   "id": "b988ded8",
   "metadata": {},
   "outputs": [],
   "source": []
  },
  {
   "cell_type": "code",
   "execution_count": null,
   "id": "23dd1f7a",
   "metadata": {},
   "outputs": [],
   "source": [
    "#q = r\"^(Doggo|Pupper|Floofer|Puppo)\"\n",
    "#p = r\"(doggo| pupper|floofer|puppo)\"\n",
    "#for row in tweet_archive.text:\n",
    " #   if re.findall(p, row):\n",
    "  #      dogs_stage.append(re.findall(p, row))\n",
    "   # elif re.findall(q, row):\n",
    "    #    dogs_stage.append(re.findall(q, row))\n",
    "    #else:\n",
    "     #   dogs_stage.append('None') "
   ]
  },
  {
   "cell_type": "code",
   "execution_count": 372,
   "id": "f3fdc42c",
   "metadata": {},
   "outputs": [],
   "source": [
    "#def dog_stage_extract(data):\n",
    " #   q = r\"^(Doggo|Pupper|Floofer|Puppo)\"\n",
    "  #  p = r\"(doggo| pupper|floofer|puppo)\"\n",
    "   # for row in data:\n",
    "    #    if re.findall(p, row):\n",
    "     #       return (re.findall(p, row))\n",
    "      #  elif re.findall(q, row):\n",
    "       #     return (re.findall(q, row))\n",
    "        #else:\n",
    "         #   return 'None'"
   ]
  },
  {
   "cell_type": "code",
   "execution_count": 378,
   "id": "6fa3d7b2",
   "metadata": {},
   "outputs": [],
   "source": [
    "#def dog_stage(x):\n",
    " #   p = r\"(doggo| pupper|floofer|puppo)\"\n",
    "  #  return re.findall(p, x)"
   ]
  },
  {
   "cell_type": "code",
   "execution_count": 362,
   "id": "84e053a8",
   "metadata": {},
   "outputs": [],
   "source": [
    "#df = pd.DataFrame({'Description': ['Teddy lives in london', 'Michael lives in Chicago', 'Amara lives in Agulu', 'Chinedu lives in Achi']})\n"
   ]
  },
  {
   "cell_type": "code",
   "execution_count": 369,
   "id": "00570594",
   "metadata": {},
   "outputs": [],
   "source": [
    "#def split_feature(x):\n",
    " #   return x.split(' lives ')[0]"
   ]
  },
  {
   "cell_type": "code",
   "execution_count": 417,
   "id": "c7a79102",
   "metadata": {},
   "outputs": [],
   "source": [
    "#df['Description'].apply(split_feature)"
   ]
  },
  {
   "cell_type": "markdown",
   "id": "7ecd0f56",
   "metadata": {},
   "source": [
    "# Issue #8"
   ]
  },
  {
   "cell_type": "markdown",
   "id": "91966a28",
   "metadata": {},
   "source": [
    "Define: Datatype of id in Tweet_json dataset and renaming to tweet_id"
   ]
  },
  {
   "cell_type": "markdown",
   "id": "0bf9f946",
   "metadata": {},
   "source": [
    "Code"
   ]
  },
  {
   "cell_type": "code",
   "execution_count": 35,
   "id": "2ba6f89e",
   "metadata": {},
   "outputs": [],
   "source": [
    "tweet_json.rename(columns = {'id':'tweet_id'}, inplace = True)"
   ]
  },
  {
   "cell_type": "code",
   "execution_count": null,
   "id": "9860dba8",
   "metadata": {},
   "outputs": [],
   "source": []
  },
  {
   "cell_type": "markdown",
   "id": "ae9f1cde",
   "metadata": {},
   "source": [
    "Test"
   ]
  },
  {
   "cell_type": "code",
   "execution_count": 36,
   "id": "f4b4e174",
   "metadata": {},
   "outputs": [
    {
     "data": {
      "text/html": [
       "<div>\n",
       "<style scoped>\n",
       "    .dataframe tbody tr th:only-of-type {\n",
       "        vertical-align: middle;\n",
       "    }\n",
       "\n",
       "    .dataframe tbody tr th {\n",
       "        vertical-align: top;\n",
       "    }\n",
       "\n",
       "    .dataframe thead th {\n",
       "        text-align: right;\n",
       "    }\n",
       "</style>\n",
       "<table border=\"1\" class=\"dataframe\">\n",
       "  <thead>\n",
       "    <tr style=\"text-align: right;\">\n",
       "      <th></th>\n",
       "      <th>tweet_id</th>\n",
       "      <th>retweet_count</th>\n",
       "      <th>favorite_count</th>\n",
       "    </tr>\n",
       "  </thead>\n",
       "  <tbody>\n",
       "    <tr>\n",
       "      <th>0</th>\n",
       "      <td>892420643555336193</td>\n",
       "      <td>8853</td>\n",
       "      <td>39467</td>\n",
       "    </tr>\n",
       "    <tr>\n",
       "      <th>1</th>\n",
       "      <td>892177421306343426</td>\n",
       "      <td>6514</td>\n",
       "      <td>33819</td>\n",
       "    </tr>\n",
       "  </tbody>\n",
       "</table>\n",
       "</div>"
      ],
      "text/plain": [
       "             tweet_id  retweet_count  favorite_count\n",
       "0  892420643555336193           8853           39467\n",
       "1  892177421306343426           6514           33819"
      ]
     },
     "execution_count": 36,
     "metadata": {},
     "output_type": "execute_result"
    }
   ],
   "source": [
    "tweet_json.head(2)"
   ]
  },
  {
   "cell_type": "markdown",
   "id": "d4ec98af",
   "metadata": {},
   "source": [
    "# Issue #9"
   ]
  },
  {
   "cell_type": "markdown",
   "id": "5c7319fa",
   "metadata": {},
   "source": [
    "Define: tweet_json tweet_id is object not int"
   ]
  },
  {
   "cell_type": "markdown",
   "id": "b4ec2f28",
   "metadata": {},
   "source": [
    "Code"
   ]
  },
  {
   "cell_type": "code",
   "execution_count": 37,
   "id": "7a97a2bb",
   "metadata": {},
   "outputs": [
    {
     "data": {
      "text/plain": [
       "dtype('int64')"
      ]
     },
     "execution_count": 37,
     "metadata": {},
     "output_type": "execute_result"
    }
   ],
   "source": [
    "#verify the datatype of tweet_json tweet_id\n",
    "tweet_json['tweet_id'].dtypes"
   ]
  },
  {
   "cell_type": "code",
   "execution_count": 38,
   "id": "1f074d2c",
   "metadata": {},
   "outputs": [],
   "source": [
    "tweet_json['tweet_id'] = tweet_json['tweet_id'].astype(str)"
   ]
  },
  {
   "cell_type": "markdown",
   "id": "9e3d7c23",
   "metadata": {},
   "source": [
    "Test"
   ]
  },
  {
   "cell_type": "code",
   "execution_count": 39,
   "id": "9bbbdce9",
   "metadata": {},
   "outputs": [
    {
     "data": {
      "text/plain": [
       "dtype('O')"
      ]
     },
     "execution_count": 39,
     "metadata": {},
     "output_type": "execute_result"
    }
   ],
   "source": [
    "tweet_json['tweet_id'].dtypes"
   ]
  },
  {
   "cell_type": "code",
   "execution_count": 40,
   "id": "96953d28",
   "metadata": {},
   "outputs": [
    {
     "data": {
      "text/plain": [
       "(2354, 3)"
      ]
     },
     "execution_count": 40,
     "metadata": {},
     "output_type": "execute_result"
    }
   ],
   "source": [
    "tweet_json.shape"
   ]
  },
  {
   "cell_type": "markdown",
   "id": "e52aee8c",
   "metadata": {},
   "source": [
    "# Issue #10"
   ]
  },
  {
   "cell_type": "markdown",
   "id": "17157667",
   "metadata": {},
   "source": [
    "Define: dog_imag_pred tweet id is object not in"
   ]
  },
  {
   "cell_type": "markdown",
   "id": "4324a2c2",
   "metadata": {},
   "source": [
    "Code"
   ]
  },
  {
   "cell_type": "code",
   "execution_count": 41,
   "id": "a43aac3a",
   "metadata": {},
   "outputs": [
    {
     "data": {
      "text/plain": [
       "dtype('int64')"
      ]
     },
     "execution_count": 41,
     "metadata": {},
     "output_type": "execute_result"
    }
   ],
   "source": [
    "#verify the datatype of dog_imag_pred tweet_id\n",
    "dog_imag_pred['tweet_id'].dtypes"
   ]
  },
  {
   "cell_type": "code",
   "execution_count": 42,
   "id": "ff6ea299",
   "metadata": {},
   "outputs": [],
   "source": [
    "dog_imag_pred['tweet_id'] = dog_imag_pred['tweet_id'].astype(str)"
   ]
  },
  {
   "cell_type": "markdown",
   "id": "c54b650e",
   "metadata": {},
   "source": [
    "Test"
   ]
  },
  {
   "cell_type": "code",
   "execution_count": 43,
   "id": "e0bdd9bc",
   "metadata": {},
   "outputs": [
    {
     "data": {
      "text/plain": [
       "dtype('O')"
      ]
     },
     "execution_count": 43,
     "metadata": {},
     "output_type": "execute_result"
    }
   ],
   "source": [
    "dog_imag_pred['tweet_id'].dtypes"
   ]
  },
  {
   "cell_type": "code",
   "execution_count": null,
   "id": "45efca04",
   "metadata": {},
   "outputs": [],
   "source": []
  },
  {
   "cell_type": "markdown",
   "id": "cd9013ff",
   "metadata": {},
   "source": [
    "# Tidiness Issue"
   ]
  },
  {
   "cell_type": "markdown",
   "id": "b64490e6",
   "metadata": {},
   "source": [
    "# Issue #1"
   ]
  },
  {
   "cell_type": "markdown",
   "id": "af3f01e5",
   "metadata": {},
   "source": [
    "Define: Doggo, floofer, pupper and puppo should be on the same column since they're referring to stages of dogs."
   ]
  },
  {
   "cell_type": "code",
   "execution_count": 44,
   "id": "af4cef3b",
   "metadata": {},
   "outputs": [
    {
     "data": {
      "text/html": [
       "<div>\n",
       "<style scoped>\n",
       "    .dataframe tbody tr th:only-of-type {\n",
       "        vertical-align: middle;\n",
       "    }\n",
       "\n",
       "    .dataframe tbody tr th {\n",
       "        vertical-align: top;\n",
       "    }\n",
       "\n",
       "    .dataframe thead th {\n",
       "        text-align: right;\n",
       "    }\n",
       "</style>\n",
       "<table border=\"1\" class=\"dataframe\">\n",
       "  <thead>\n",
       "    <tr style=\"text-align: right;\">\n",
       "      <th></th>\n",
       "      <th>tweet_id</th>\n",
       "      <th>rating_numerator</th>\n",
       "      <th>rating_denominator</th>\n",
       "      <th>name</th>\n",
       "      <th>doggo</th>\n",
       "      <th>floofer</th>\n",
       "      <th>pupper</th>\n",
       "      <th>puppo</th>\n",
       "      <th>year</th>\n",
       "      <th>month</th>\n",
       "    </tr>\n",
       "  </thead>\n",
       "  <tbody>\n",
       "    <tr>\n",
       "      <th>0</th>\n",
       "      <td>892420643555336193</td>\n",
       "      <td>13</td>\n",
       "      <td>10</td>\n",
       "      <td>Phineas</td>\n",
       "      <td>None</td>\n",
       "      <td>None</td>\n",
       "      <td>None</td>\n",
       "      <td>None</td>\n",
       "      <td>2017</td>\n",
       "      <td>August</td>\n",
       "    </tr>\n",
       "    <tr>\n",
       "      <th>1</th>\n",
       "      <td>892177421306343426</td>\n",
       "      <td>13</td>\n",
       "      <td>10</td>\n",
       "      <td>Tilly</td>\n",
       "      <td>None</td>\n",
       "      <td>None</td>\n",
       "      <td>None</td>\n",
       "      <td>None</td>\n",
       "      <td>2017</td>\n",
       "      <td>August</td>\n",
       "    </tr>\n",
       "    <tr>\n",
       "      <th>2</th>\n",
       "      <td>891815181378084864</td>\n",
       "      <td>12</td>\n",
       "      <td>10</td>\n",
       "      <td>Archie</td>\n",
       "      <td>None</td>\n",
       "      <td>None</td>\n",
       "      <td>None</td>\n",
       "      <td>None</td>\n",
       "      <td>2017</td>\n",
       "      <td>July</td>\n",
       "    </tr>\n",
       "    <tr>\n",
       "      <th>3</th>\n",
       "      <td>891689557279858688</td>\n",
       "      <td>13</td>\n",
       "      <td>10</td>\n",
       "      <td>Darla</td>\n",
       "      <td>None</td>\n",
       "      <td>None</td>\n",
       "      <td>None</td>\n",
       "      <td>None</td>\n",
       "      <td>2017</td>\n",
       "      <td>July</td>\n",
       "    </tr>\n",
       "    <tr>\n",
       "      <th>4</th>\n",
       "      <td>891327558926688256</td>\n",
       "      <td>12</td>\n",
       "      <td>10</td>\n",
       "      <td>Franklin</td>\n",
       "      <td>None</td>\n",
       "      <td>None</td>\n",
       "      <td>None</td>\n",
       "      <td>None</td>\n",
       "      <td>2017</td>\n",
       "      <td>July</td>\n",
       "    </tr>\n",
       "    <tr>\n",
       "      <th>5</th>\n",
       "      <td>891087950875897856</td>\n",
       "      <td>13</td>\n",
       "      <td>10</td>\n",
       "      <td>None</td>\n",
       "      <td>None</td>\n",
       "      <td>None</td>\n",
       "      <td>None</td>\n",
       "      <td>None</td>\n",
       "      <td>2017</td>\n",
       "      <td>July</td>\n",
       "    </tr>\n",
       "    <tr>\n",
       "      <th>6</th>\n",
       "      <td>890971913173991426</td>\n",
       "      <td>13</td>\n",
       "      <td>10</td>\n",
       "      <td>Jax</td>\n",
       "      <td>None</td>\n",
       "      <td>None</td>\n",
       "      <td>None</td>\n",
       "      <td>None</td>\n",
       "      <td>2017</td>\n",
       "      <td>July</td>\n",
       "    </tr>\n",
       "    <tr>\n",
       "      <th>7</th>\n",
       "      <td>890729181411237888</td>\n",
       "      <td>13</td>\n",
       "      <td>10</td>\n",
       "      <td>None</td>\n",
       "      <td>None</td>\n",
       "      <td>None</td>\n",
       "      <td>None</td>\n",
       "      <td>None</td>\n",
       "      <td>2017</td>\n",
       "      <td>July</td>\n",
       "    </tr>\n",
       "    <tr>\n",
       "      <th>8</th>\n",
       "      <td>890609185150312448</td>\n",
       "      <td>13</td>\n",
       "      <td>10</td>\n",
       "      <td>Zoey</td>\n",
       "      <td>None</td>\n",
       "      <td>None</td>\n",
       "      <td>None</td>\n",
       "      <td>None</td>\n",
       "      <td>2017</td>\n",
       "      <td>July</td>\n",
       "    </tr>\n",
       "    <tr>\n",
       "      <th>9</th>\n",
       "      <td>890240255349198849</td>\n",
       "      <td>14</td>\n",
       "      <td>10</td>\n",
       "      <td>Cassie</td>\n",
       "      <td>doggo</td>\n",
       "      <td>None</td>\n",
       "      <td>None</td>\n",
       "      <td>None</td>\n",
       "      <td>2017</td>\n",
       "      <td>July</td>\n",
       "    </tr>\n",
       "  </tbody>\n",
       "</table>\n",
       "</div>"
      ],
      "text/plain": [
       "             tweet_id  rating_numerator  rating_denominator      name  doggo  \\\n",
       "0  892420643555336193                13                  10   Phineas   None   \n",
       "1  892177421306343426                13                  10     Tilly   None   \n",
       "2  891815181378084864                12                  10    Archie   None   \n",
       "3  891689557279858688                13                  10     Darla   None   \n",
       "4  891327558926688256                12                  10  Franklin   None   \n",
       "5  891087950875897856                13                  10      None   None   \n",
       "6  890971913173991426                13                  10       Jax   None   \n",
       "7  890729181411237888                13                  10      None   None   \n",
       "8  890609185150312448                13                  10      Zoey   None   \n",
       "9  890240255349198849                14                  10    Cassie  doggo   \n",
       "\n",
       "  floofer pupper puppo  year   month  \n",
       "0    None   None  None  2017  August  \n",
       "1    None   None  None  2017  August  \n",
       "2    None   None  None  2017    July  \n",
       "3    None   None  None  2017    July  \n",
       "4    None   None  None  2017    July  \n",
       "5    None   None  None  2017    July  \n",
       "6    None   None  None  2017    July  \n",
       "7    None   None  None  2017    July  \n",
       "8    None   None  None  2017    July  \n",
       "9    None   None  None  2017    July  "
      ]
     },
     "execution_count": 44,
     "metadata": {},
     "output_type": "execute_result"
    }
   ],
   "source": [
    "tweet_archive.head(10)"
   ]
  },
  {
   "cell_type": "markdown",
   "id": "8dd82339",
   "metadata": {},
   "source": [
    "Code"
   ]
  },
  {
   "cell_type": "code",
   "execution_count": null,
   "id": "aba373ec",
   "metadata": {},
   "outputs": [],
   "source": []
  },
  {
   "cell_type": "code",
   "execution_count": 45,
   "id": "15c01853",
   "metadata": {},
   "outputs": [
    {
     "data": {
      "text/html": [
       "<div>\n",
       "<style scoped>\n",
       "    .dataframe tbody tr th:only-of-type {\n",
       "        vertical-align: middle;\n",
       "    }\n",
       "\n",
       "    .dataframe tbody tr th {\n",
       "        vertical-align: top;\n",
       "    }\n",
       "\n",
       "    .dataframe thead th {\n",
       "        text-align: right;\n",
       "    }\n",
       "</style>\n",
       "<table border=\"1\" class=\"dataframe\">\n",
       "  <thead>\n",
       "    <tr style=\"text-align: right;\">\n",
       "      <th></th>\n",
       "      <th>tweet_id</th>\n",
       "      <th>rating_numerator</th>\n",
       "      <th>rating_denominator</th>\n",
       "      <th>year</th>\n",
       "      <th>month</th>\n",
       "      <th>name</th>\n",
       "      <th>dog_stage</th>\n",
       "    </tr>\n",
       "  </thead>\n",
       "  <tbody>\n",
       "    <tr>\n",
       "      <th>1989</th>\n",
       "      <td>667192066997374976</td>\n",
       "      <td>12</td>\n",
       "      <td>10</td>\n",
       "      <td>2015</td>\n",
       "      <td>November</td>\n",
       "      <td>None</td>\n",
       "      <td>None</td>\n",
       "    </tr>\n",
       "    <tr>\n",
       "      <th>1988</th>\n",
       "      <td>667200525029539841</td>\n",
       "      <td>11</td>\n",
       "      <td>10</td>\n",
       "      <td>2015</td>\n",
       "      <td>November</td>\n",
       "      <td>Joshwa</td>\n",
       "      <td>None</td>\n",
       "    </tr>\n",
       "    <tr>\n",
       "      <th>1987</th>\n",
       "      <td>667211855547486208</td>\n",
       "      <td>9</td>\n",
       "      <td>10</td>\n",
       "      <td>2015</td>\n",
       "      <td>November</td>\n",
       "      <td>Genevieve</td>\n",
       "      <td>None</td>\n",
       "    </tr>\n",
       "    <tr>\n",
       "      <th>1986</th>\n",
       "      <td>667369227918143488</td>\n",
       "      <td>10</td>\n",
       "      <td>10</td>\n",
       "      <td>2015</td>\n",
       "      <td>November</td>\n",
       "      <td>None</td>\n",
       "      <td>None</td>\n",
       "    </tr>\n",
       "    <tr>\n",
       "      <th>1985</th>\n",
       "      <td>667393430834667520</td>\n",
       "      <td>8</td>\n",
       "      <td>10</td>\n",
       "      <td>2015</td>\n",
       "      <td>November</td>\n",
       "      <td>Fwed</td>\n",
       "      <td>None</td>\n",
       "    </tr>\n",
       "    <tr>\n",
       "      <th>1984</th>\n",
       "      <td>667405339315146752</td>\n",
       "      <td>7</td>\n",
       "      <td>10</td>\n",
       "      <td>2015</td>\n",
       "      <td>November</td>\n",
       "      <td>Biden</td>\n",
       "      <td>None</td>\n",
       "    </tr>\n",
       "    <tr>\n",
       "      <th>1983</th>\n",
       "      <td>667435689202614272</td>\n",
       "      <td>12</td>\n",
       "      <td>10</td>\n",
       "      <td>2015</td>\n",
       "      <td>November</td>\n",
       "      <td>None</td>\n",
       "      <td>None</td>\n",
       "    </tr>\n",
       "    <tr>\n",
       "      <th>1982</th>\n",
       "      <td>667437278097252352</td>\n",
       "      <td>10</td>\n",
       "      <td>10</td>\n",
       "      <td>2015</td>\n",
       "      <td>November</td>\n",
       "      <td>None</td>\n",
       "      <td>None</td>\n",
       "    </tr>\n",
       "    <tr>\n",
       "      <th>1981</th>\n",
       "      <td>667443425659232256</td>\n",
       "      <td>6</td>\n",
       "      <td>10</td>\n",
       "      <td>2015</td>\n",
       "      <td>November</td>\n",
       "      <td>None</td>\n",
       "      <td>None</td>\n",
       "    </tr>\n",
       "    <tr>\n",
       "      <th>1980</th>\n",
       "      <td>667453023279554560</td>\n",
       "      <td>11</td>\n",
       "      <td>10</td>\n",
       "      <td>2015</td>\n",
       "      <td>November</td>\n",
       "      <td>Cupcake</td>\n",
       "      <td>None</td>\n",
       "    </tr>\n",
       "  </tbody>\n",
       "</table>\n",
       "</div>"
      ],
      "text/plain": [
       "                tweet_id  rating_numerator  rating_denominator  year  \\\n",
       "1989  667192066997374976                12                  10  2015   \n",
       "1988  667200525029539841                11                  10  2015   \n",
       "1987  667211855547486208                 9                  10  2015   \n",
       "1986  667369227918143488                10                  10  2015   \n",
       "1985  667393430834667520                 8                  10  2015   \n",
       "1984  667405339315146752                 7                  10  2015   \n",
       "1983  667435689202614272                12                  10  2015   \n",
       "1982  667437278097252352                10                  10  2015   \n",
       "1981  667443425659232256                 6                  10  2015   \n",
       "1980  667453023279554560                11                  10  2015   \n",
       "\n",
       "         month       name dog_stage  \n",
       "1989  November       None      None  \n",
       "1988  November     Joshwa      None  \n",
       "1987  November  Genevieve      None  \n",
       "1986  November       None      None  \n",
       "1985  November       Fwed      None  \n",
       "1984  November      Biden      None  \n",
       "1983  November       None      None  \n",
       "1982  November       None      None  \n",
       "1981  November       None      None  \n",
       "1980  November    Cupcake      None  "
      ]
     },
     "execution_count": 45,
     "metadata": {},
     "output_type": "execute_result"
    }
   ],
   "source": [
    "tweet_archive = pd.melt(tweet_archive, id_vars = ['tweet_id', 'rating_numerator', 'rating_denominator', 'year', 'month', 'name'],\n",
    "                       var_name = 'dog', value_name = 'dog_stage')\n",
    "\n",
    "tweet_archive.drop('dog', axis = 1, inplace = True) #drop dog column\n",
    "tweet_archive = tweet_archive.sort_values('dog_stage').drop_duplicates(subset = 'tweet_id',\n",
    "                                               keep = 'last') #drop any duplicate tweet_id\n",
    "tweet_archive.head(10)                "
   ]
  },
  {
   "cell_type": "code",
   "execution_count": null,
   "id": "0408d290",
   "metadata": {},
   "outputs": [],
   "source": []
  },
  {
   "cell_type": "code",
   "execution_count": 46,
   "id": "bc9dd77a",
   "metadata": {},
   "outputs": [
    {
     "data": {
      "text/plain": [
       "None       1720\n",
       "pupper      233\n",
       "doggo        73\n",
       "puppo        25\n",
       "floofer      10\n",
       "Name: dog_stage, dtype: int64"
      ]
     },
     "execution_count": 46,
     "metadata": {},
     "output_type": "execute_result"
    }
   ],
   "source": [
    "tweet_archive.dog_stage.value_counts()"
   ]
  },
  {
   "cell_type": "code",
   "execution_count": 51,
   "id": "b35c1554",
   "metadata": {},
   "outputs": [],
   "source": [
    "tweet_archive.to_csv('dog_stage_ver.csv') #save to csv for futher assessment with Microsoft Excel"
   ]
  },
  {
   "cell_type": "markdown",
   "id": "24069139",
   "metadata": {},
   "source": [
    "Test"
   ]
  },
  {
   "cell_type": "code",
   "execution_count": 47,
   "id": "7af83d54",
   "metadata": {},
   "outputs": [
    {
     "data": {
      "text/plain": [
       "array(['None', 'doggo', 'floofer', 'pupper', 'puppo'], dtype=object)"
      ]
     },
     "execution_count": 47,
     "metadata": {},
     "output_type": "execute_result"
    }
   ],
   "source": [
    "tweet_archive.dog_stage.unique()"
   ]
  },
  {
   "cell_type": "code",
   "execution_count": 48,
   "id": "b0d92dbf",
   "metadata": {},
   "outputs": [
    {
     "data": {
      "text/plain": [
       "(2061, 7)"
      ]
     },
     "execution_count": 48,
     "metadata": {},
     "output_type": "execute_result"
    }
   ],
   "source": [
    "tweet_archive.shape"
   ]
  },
  {
   "cell_type": "markdown",
   "id": "d0aca2f6",
   "metadata": {},
   "source": [
    "# Issue #2"
   ]
  },
  {
   "cell_type": "markdown",
   "id": "7cb40475",
   "metadata": {},
   "source": [
    "Define: Merging the three dataset (tweet_archive, tweet_json, dog_imag_pred)"
   ]
  },
  {
   "cell_type": "markdown",
   "id": "fe18926a",
   "metadata": {},
   "source": [
    "Code"
   ]
  },
  {
   "cell_type": "code",
   "execution_count": 49,
   "id": "7b8afbe3",
   "metadata": {},
   "outputs": [
    {
     "data": {
      "text/plain": [
       "(2061, 7)"
      ]
     },
     "execution_count": 49,
     "metadata": {},
     "output_type": "execute_result"
    }
   ],
   "source": [
    "tweet_archive.shape #verify the number of rows of tweet_archive"
   ]
  },
  {
   "cell_type": "code",
   "execution_count": 50,
   "id": "71eb5f32",
   "metadata": {},
   "outputs": [
    {
     "data": {
      "text/plain": [
       "(2075, 2)"
      ]
     },
     "execution_count": 50,
     "metadata": {},
     "output_type": "execute_result"
    }
   ],
   "source": [
    "dog_imag_pred.shape #verify the number of rows of dog_imag_pred"
   ]
  },
  {
   "cell_type": "code",
   "execution_count": 54,
   "id": "1dda0698",
   "metadata": {},
   "outputs": [],
   "source": [
    "#tweet_id_lst = []\n",
    "#for row in tweet_archive.index:\n",
    "#    tweet_id_lst.append(tweet_archive.tweet_id)"
   ]
  },
  {
   "cell_type": "code",
   "execution_count": 51,
   "id": "3541c147",
   "metadata": {},
   "outputs": [],
   "source": [
    "#merge tweet_archive and tweet_json using their index\n",
    "we_rate_dog = tweet_archive.set_index('tweet_id').join(tweet_json.set_index('tweet_id'))"
   ]
  },
  {
   "cell_type": "code",
   "execution_count": 52,
   "id": "d4d5b6b9",
   "metadata": {},
   "outputs": [
    {
     "data": {
      "text/html": [
       "<div>\n",
       "<style scoped>\n",
       "    .dataframe tbody tr th:only-of-type {\n",
       "        vertical-align: middle;\n",
       "    }\n",
       "\n",
       "    .dataframe tbody tr th {\n",
       "        vertical-align: top;\n",
       "    }\n",
       "\n",
       "    .dataframe thead th {\n",
       "        text-align: right;\n",
       "    }\n",
       "</style>\n",
       "<table border=\"1\" class=\"dataframe\">\n",
       "  <thead>\n",
       "    <tr style=\"text-align: right;\">\n",
       "      <th></th>\n",
       "      <th>rating_numerator</th>\n",
       "      <th>rating_denominator</th>\n",
       "      <th>year</th>\n",
       "      <th>month</th>\n",
       "      <th>name</th>\n",
       "      <th>dog_stage</th>\n",
       "      <th>retweet_count</th>\n",
       "      <th>favorite_count</th>\n",
       "    </tr>\n",
       "    <tr>\n",
       "      <th>tweet_id</th>\n",
       "      <th></th>\n",
       "      <th></th>\n",
       "      <th></th>\n",
       "      <th></th>\n",
       "      <th></th>\n",
       "      <th></th>\n",
       "      <th></th>\n",
       "      <th></th>\n",
       "    </tr>\n",
       "  </thead>\n",
       "  <tbody>\n",
       "    <tr>\n",
       "      <th>667192066997374976</th>\n",
       "      <td>12</td>\n",
       "      <td>10</td>\n",
       "      <td>2015</td>\n",
       "      <td>November</td>\n",
       "      <td>None</td>\n",
       "      <td>None</td>\n",
       "      <td>115</td>\n",
       "      <td>414</td>\n",
       "    </tr>\n",
       "    <tr>\n",
       "      <th>667200525029539841</th>\n",
       "      <td>11</td>\n",
       "      <td>10</td>\n",
       "      <td>2015</td>\n",
       "      <td>November</td>\n",
       "      <td>Joshwa</td>\n",
       "      <td>None</td>\n",
       "      <td>282</td>\n",
       "      <td>658</td>\n",
       "    </tr>\n",
       "    <tr>\n",
       "      <th>667211855547486208</th>\n",
       "      <td>9</td>\n",
       "      <td>10</td>\n",
       "      <td>2015</td>\n",
       "      <td>November</td>\n",
       "      <td>Genevieve</td>\n",
       "      <td>None</td>\n",
       "      <td>258</td>\n",
       "      <td>516</td>\n",
       "    </tr>\n",
       "    <tr>\n",
       "      <th>667369227918143488</th>\n",
       "      <td>10</td>\n",
       "      <td>10</td>\n",
       "      <td>2015</td>\n",
       "      <td>November</td>\n",
       "      <td>None</td>\n",
       "      <td>None</td>\n",
       "      <td>173</td>\n",
       "      <td>385</td>\n",
       "    </tr>\n",
       "    <tr>\n",
       "      <th>667393430834667520</th>\n",
       "      <td>8</td>\n",
       "      <td>10</td>\n",
       "      <td>2015</td>\n",
       "      <td>November</td>\n",
       "      <td>Fwed</td>\n",
       "      <td>None</td>\n",
       "      <td>60</td>\n",
       "      <td>211</td>\n",
       "    </tr>\n",
       "    <tr>\n",
       "      <th>667405339315146752</th>\n",
       "      <td>7</td>\n",
       "      <td>10</td>\n",
       "      <td>2015</td>\n",
       "      <td>November</td>\n",
       "      <td>Biden</td>\n",
       "      <td>None</td>\n",
       "      <td>234</td>\n",
       "      <td>489</td>\n",
       "    </tr>\n",
       "    <tr>\n",
       "      <th>667435689202614272</th>\n",
       "      <td>12</td>\n",
       "      <td>10</td>\n",
       "      <td>2015</td>\n",
       "      <td>November</td>\n",
       "      <td>None</td>\n",
       "      <td>None</td>\n",
       "      <td>89</td>\n",
       "      <td>326</td>\n",
       "    </tr>\n",
       "    <tr>\n",
       "      <th>667437278097252352</th>\n",
       "      <td>10</td>\n",
       "      <td>10</td>\n",
       "      <td>2015</td>\n",
       "      <td>November</td>\n",
       "      <td>None</td>\n",
       "      <td>None</td>\n",
       "      <td>257</td>\n",
       "      <td>483</td>\n",
       "    </tr>\n",
       "    <tr>\n",
       "      <th>667443425659232256</th>\n",
       "      <td>6</td>\n",
       "      <td>10</td>\n",
       "      <td>2015</td>\n",
       "      <td>November</td>\n",
       "      <td>None</td>\n",
       "      <td>None</td>\n",
       "      <td>620</td>\n",
       "      <td>833</td>\n",
       "    </tr>\n",
       "    <tr>\n",
       "      <th>667453023279554560</th>\n",
       "      <td>11</td>\n",
       "      <td>10</td>\n",
       "      <td>2015</td>\n",
       "      <td>November</td>\n",
       "      <td>Cupcake</td>\n",
       "      <td>None</td>\n",
       "      <td>96</td>\n",
       "      <td>327</td>\n",
       "    </tr>\n",
       "  </tbody>\n",
       "</table>\n",
       "</div>"
      ],
      "text/plain": [
       "                    rating_numerator  rating_denominator  year     month  \\\n",
       "tweet_id                                                                   \n",
       "667192066997374976                12                  10  2015  November   \n",
       "667200525029539841                11                  10  2015  November   \n",
       "667211855547486208                 9                  10  2015  November   \n",
       "667369227918143488                10                  10  2015  November   \n",
       "667393430834667520                 8                  10  2015  November   \n",
       "667405339315146752                 7                  10  2015  November   \n",
       "667435689202614272                12                  10  2015  November   \n",
       "667437278097252352                10                  10  2015  November   \n",
       "667443425659232256                 6                  10  2015  November   \n",
       "667453023279554560                11                  10  2015  November   \n",
       "\n",
       "                         name dog_stage  retweet_count  favorite_count  \n",
       "tweet_id                                                                \n",
       "667192066997374976       None      None            115             414  \n",
       "667200525029539841     Joshwa      None            282             658  \n",
       "667211855547486208  Genevieve      None            258             516  \n",
       "667369227918143488       None      None            173             385  \n",
       "667393430834667520       Fwed      None             60             211  \n",
       "667405339315146752      Biden      None            234             489  \n",
       "667435689202614272       None      None             89             326  \n",
       "667437278097252352       None      None            257             483  \n",
       "667443425659232256       None      None            620             833  \n",
       "667453023279554560    Cupcake      None             96             327  "
      ]
     },
     "execution_count": 52,
     "metadata": {},
     "output_type": "execute_result"
    }
   ],
   "source": [
    "we_rate_dog.head(10)"
   ]
  },
  {
   "cell_type": "code",
   "execution_count": 53,
   "id": "314245e9",
   "metadata": {},
   "outputs": [
    {
     "data": {
      "text/html": [
       "<div>\n",
       "<style scoped>\n",
       "    .dataframe tbody tr th:only-of-type {\n",
       "        vertical-align: middle;\n",
       "    }\n",
       "\n",
       "    .dataframe tbody tr th {\n",
       "        vertical-align: top;\n",
       "    }\n",
       "\n",
       "    .dataframe thead th {\n",
       "        text-align: right;\n",
       "    }\n",
       "</style>\n",
       "<table border=\"1\" class=\"dataframe\">\n",
       "  <thead>\n",
       "    <tr style=\"text-align: right;\">\n",
       "      <th></th>\n",
       "      <th>tweet_id</th>\n",
       "      <th>rating_numerator</th>\n",
       "      <th>rating_denominator</th>\n",
       "      <th>year</th>\n",
       "      <th>month</th>\n",
       "      <th>name</th>\n",
       "      <th>dog_stage</th>\n",
       "      <th>retweet_count</th>\n",
       "      <th>favorite_count</th>\n",
       "      <th>img_num</th>\n",
       "    </tr>\n",
       "  </thead>\n",
       "  <tbody>\n",
       "    <tr>\n",
       "      <th>0</th>\n",
       "      <td>667192066997374976</td>\n",
       "      <td>12</td>\n",
       "      <td>10</td>\n",
       "      <td>2015</td>\n",
       "      <td>November</td>\n",
       "      <td>None</td>\n",
       "      <td>None</td>\n",
       "      <td>115</td>\n",
       "      <td>414</td>\n",
       "      <td>1.0</td>\n",
       "    </tr>\n",
       "    <tr>\n",
       "      <th>1</th>\n",
       "      <td>667200525029539841</td>\n",
       "      <td>11</td>\n",
       "      <td>10</td>\n",
       "      <td>2015</td>\n",
       "      <td>November</td>\n",
       "      <td>Joshwa</td>\n",
       "      <td>None</td>\n",
       "      <td>282</td>\n",
       "      <td>658</td>\n",
       "      <td>1.0</td>\n",
       "    </tr>\n",
       "    <tr>\n",
       "      <th>2</th>\n",
       "      <td>667211855547486208</td>\n",
       "      <td>9</td>\n",
       "      <td>10</td>\n",
       "      <td>2015</td>\n",
       "      <td>November</td>\n",
       "      <td>Genevieve</td>\n",
       "      <td>None</td>\n",
       "      <td>258</td>\n",
       "      <td>516</td>\n",
       "      <td>1.0</td>\n",
       "    </tr>\n",
       "    <tr>\n",
       "      <th>3</th>\n",
       "      <td>667369227918143488</td>\n",
       "      <td>10</td>\n",
       "      <td>10</td>\n",
       "      <td>2015</td>\n",
       "      <td>November</td>\n",
       "      <td>None</td>\n",
       "      <td>None</td>\n",
       "      <td>173</td>\n",
       "      <td>385</td>\n",
       "      <td>1.0</td>\n",
       "    </tr>\n",
       "    <tr>\n",
       "      <th>4</th>\n",
       "      <td>667393430834667520</td>\n",
       "      <td>8</td>\n",
       "      <td>10</td>\n",
       "      <td>2015</td>\n",
       "      <td>November</td>\n",
       "      <td>Fwed</td>\n",
       "      <td>None</td>\n",
       "      <td>60</td>\n",
       "      <td>211</td>\n",
       "      <td>1.0</td>\n",
       "    </tr>\n",
       "    <tr>\n",
       "      <th>5</th>\n",
       "      <td>667405339315146752</td>\n",
       "      <td>7</td>\n",
       "      <td>10</td>\n",
       "      <td>2015</td>\n",
       "      <td>November</td>\n",
       "      <td>Biden</td>\n",
       "      <td>None</td>\n",
       "      <td>234</td>\n",
       "      <td>489</td>\n",
       "      <td>1.0</td>\n",
       "    </tr>\n",
       "    <tr>\n",
       "      <th>6</th>\n",
       "      <td>667435689202614272</td>\n",
       "      <td>12</td>\n",
       "      <td>10</td>\n",
       "      <td>2015</td>\n",
       "      <td>November</td>\n",
       "      <td>None</td>\n",
       "      <td>None</td>\n",
       "      <td>89</td>\n",
       "      <td>326</td>\n",
       "      <td>1.0</td>\n",
       "    </tr>\n",
       "    <tr>\n",
       "      <th>7</th>\n",
       "      <td>667437278097252352</td>\n",
       "      <td>10</td>\n",
       "      <td>10</td>\n",
       "      <td>2015</td>\n",
       "      <td>November</td>\n",
       "      <td>None</td>\n",
       "      <td>None</td>\n",
       "      <td>257</td>\n",
       "      <td>483</td>\n",
       "      <td>1.0</td>\n",
       "    </tr>\n",
       "    <tr>\n",
       "      <th>8</th>\n",
       "      <td>667443425659232256</td>\n",
       "      <td>6</td>\n",
       "      <td>10</td>\n",
       "      <td>2015</td>\n",
       "      <td>November</td>\n",
       "      <td>None</td>\n",
       "      <td>None</td>\n",
       "      <td>620</td>\n",
       "      <td>833</td>\n",
       "      <td>1.0</td>\n",
       "    </tr>\n",
       "    <tr>\n",
       "      <th>9</th>\n",
       "      <td>667453023279554560</td>\n",
       "      <td>11</td>\n",
       "      <td>10</td>\n",
       "      <td>2015</td>\n",
       "      <td>November</td>\n",
       "      <td>Cupcake</td>\n",
       "      <td>None</td>\n",
       "      <td>96</td>\n",
       "      <td>327</td>\n",
       "      <td>1.0</td>\n",
       "    </tr>\n",
       "  </tbody>\n",
       "</table>\n",
       "</div>"
      ],
      "text/plain": [
       "             tweet_id  rating_numerator  rating_denominator  year     month  \\\n",
       "0  667192066997374976                12                  10  2015  November   \n",
       "1  667200525029539841                11                  10  2015  November   \n",
       "2  667211855547486208                 9                  10  2015  November   \n",
       "3  667369227918143488                10                  10  2015  November   \n",
       "4  667393430834667520                 8                  10  2015  November   \n",
       "5  667405339315146752                 7                  10  2015  November   \n",
       "6  667435689202614272                12                  10  2015  November   \n",
       "7  667437278097252352                10                  10  2015  November   \n",
       "8  667443425659232256                 6                  10  2015  November   \n",
       "9  667453023279554560                11                  10  2015  November   \n",
       "\n",
       "        name dog_stage  retweet_count  favorite_count  img_num  \n",
       "0       None      None            115             414      1.0  \n",
       "1     Joshwa      None            282             658      1.0  \n",
       "2  Genevieve      None            258             516      1.0  \n",
       "3       None      None            173             385      1.0  \n",
       "4       Fwed      None             60             211      1.0  \n",
       "5      Biden      None            234             489      1.0  \n",
       "6       None      None             89             326      1.0  \n",
       "7       None      None            257             483      1.0  \n",
       "8       None      None            620             833      1.0  \n",
       "9    Cupcake      None             96             327      1.0  "
      ]
     },
     "execution_count": 53,
     "metadata": {},
     "output_type": "execute_result"
    }
   ],
   "source": [
    "#merge dog_imag_pred with we_rate_dog using tweet_id\n",
    "twitter_archive = we_rate_dog.join(dog_imag_pred.set_index('tweet_id'))\n",
    "twitter_archive = twitter_archive.reset_index()\n",
    "twitter_archive.head(10)"
   ]
  },
  {
   "cell_type": "code",
   "execution_count": 54,
   "id": "b4b236fd",
   "metadata": {},
   "outputs": [
    {
     "data": {
      "text/plain": [
       "array(['None', 'doggo', 'floofer', 'pupper', 'puppo'], dtype=object)"
      ]
     },
     "execution_count": 54,
     "metadata": {},
     "output_type": "execute_result"
    }
   ],
   "source": [
    "twitter_archive.dog_stage.unique()"
   ]
  },
  {
   "cell_type": "markdown",
   "id": "b5dc1330",
   "metadata": {},
   "source": [
    "# Storing Data"
   ]
  },
  {
   "cell_type": "code",
   "execution_count": 55,
   "id": "0c873dc8",
   "metadata": {},
   "outputs": [],
   "source": [
    "twitter_archive.to_csv('twitter_archive_master.csv')"
   ]
  },
  {
   "cell_type": "markdown",
   "id": "7a7f9145",
   "metadata": {},
   "source": [
    "# Analyzing and Visualizing Data"
   ]
  },
  {
   "cell_type": "markdown",
   "id": "ec5d7fcf",
   "metadata": {},
   "source": [
    "# Insights:"
   ]
  },
  {
   "cell_type": "markdown",
   "id": "395bd9b3",
   "metadata": {},
   "source": [
    "1. Which stage of dog has the highest retweet count\n",
    "2. which stage of dog has the highest favorite count\n",
    "3. which stage of dog has both highest retweet counts and favorite counts\n",
    "4. what are the features of the top 10 rated dog stage based on retweet count and favorite counts."
   ]
  },
  {
   "cell_type": "markdown",
   "id": "5489654f",
   "metadata": {},
   "source": [
    "# Data Visualization"
   ]
  },
  {
   "cell_type": "code",
   "execution_count": 56,
   "id": "b2b138b3",
   "metadata": {},
   "outputs": [
    {
     "data": {
      "text/plain": [
       "None       1720\n",
       "pupper      233\n",
       "doggo        73\n",
       "puppo        25\n",
       "floofer      10\n",
       "Name: dog_stage, dtype: int64"
      ]
     },
     "execution_count": 56,
     "metadata": {},
     "output_type": "execute_result"
    }
   ],
   "source": [
    "twitter_archive.dog_stage.value_counts()"
   ]
  },
  {
   "cell_type": "code",
   "execution_count": 57,
   "id": "740f4416",
   "metadata": {},
   "outputs": [],
   "source": [
    "#for easy of visualization, the visualization only account for dogs that have their stages recorded\n",
    "twitter_archive = twitter_archive[['dog_stage', 'retweet_count', 'favorite_count', 'month']].query(\"dog_stage != 'None'\")"
   ]
  },
  {
   "cell_type": "code",
   "execution_count": 58,
   "id": "2c3e4e73",
   "metadata": {},
   "outputs": [
    {
     "data": {
      "text/html": [
       "<div>\n",
       "<style scoped>\n",
       "    .dataframe tbody tr th:only-of-type {\n",
       "        vertical-align: middle;\n",
       "    }\n",
       "\n",
       "    .dataframe tbody tr th {\n",
       "        vertical-align: top;\n",
       "    }\n",
       "\n",
       "    .dataframe thead th {\n",
       "        text-align: right;\n",
       "    }\n",
       "</style>\n",
       "<table border=\"1\" class=\"dataframe\">\n",
       "  <thead>\n",
       "    <tr style=\"text-align: right;\">\n",
       "      <th></th>\n",
       "      <th>dog_stage</th>\n",
       "      <th>retweet_count</th>\n",
       "      <th>favorite_count</th>\n",
       "      <th>month</th>\n",
       "    </tr>\n",
       "  </thead>\n",
       "  <tbody>\n",
       "    <tr>\n",
       "      <th>1775</th>\n",
       "      <td>doggo</td>\n",
       "      <td>79515</td>\n",
       "      <td>131075</td>\n",
       "      <td>June</td>\n",
       "    </tr>\n",
       "  </tbody>\n",
       "</table>\n",
       "</div>"
      ],
      "text/plain": [
       "     dog_stage  retweet_count  favorite_count month\n",
       "1775     doggo          79515          131075  June"
      ]
     },
     "execution_count": 58,
     "metadata": {},
     "output_type": "execute_result"
    }
   ],
   "source": [
    "#Which stage of dog has the highest retweet count\n",
    "twitter_archive[twitter_archive.retweet_count == twitter_archive.retweet_count.max()]"
   ]
  },
  {
   "cell_type": "code",
   "execution_count": 59,
   "id": "b634d72d",
   "metadata": {},
   "outputs": [
    {
     "data": {
      "image/png": "[encoded data removed]",
      "text/plain": [
       "<Figure size 360x360 with 1 Axes>"
      ]
     },
     "metadata": {
      "needs_background": "light"
     },
     "output_type": "display_data"
    },
    {
     "data": {
      "text/plain": [
       "<Figure size 432x288 with 0 Axes>"
      ]
     },
     "metadata": {},
     "output_type": "display_data"
    }
   ],
   "source": [
    "fig = plt.figure(figsize = (5, 5))\n",
    "plt.bar(twitter_archive.dog_stage, twitter_archive.retweet_count, color = 'maroon', width = 0.4)\n",
    "plt.xlabel('Different Stages of Dog')\n",
    "plt.ylabel('Number of Retweet Count')\n",
    "plt.title('Number of Retweet Count of Different Dogs')\n",
    "plt.show()\n",
    "plt.savefig('Retweet_count')"
   ]
  },
  {
   "cell_type": "markdown",
   "id": "124955cc",
   "metadata": {},
   "source": [
    "from the above chat, doggo stage has the highest retweet"
   ]
  },
  {
   "cell_type": "code",
   "execution_count": 60,
   "id": "52f596aa",
   "metadata": {},
   "outputs": [
    {
     "data": {
      "text/html": [
       "<div>\n",
       "<style scoped>\n",
       "    .dataframe tbody tr th:only-of-type {\n",
       "        vertical-align: middle;\n",
       "    }\n",
       "\n",
       "    .dataframe tbody tr th {\n",
       "        vertical-align: top;\n",
       "    }\n",
       "\n",
       "    .dataframe thead th {\n",
       "        text-align: right;\n",
       "    }\n",
       "</style>\n",
       "<table border=\"1\" class=\"dataframe\">\n",
       "  <thead>\n",
       "    <tr style=\"text-align: right;\">\n",
       "      <th></th>\n",
       "      <th>dog_stage</th>\n",
       "      <th>retweet_count</th>\n",
       "      <th>favorite_count</th>\n",
       "      <th>month</th>\n",
       "    </tr>\n",
       "  </thead>\n",
       "  <tbody>\n",
       "    <tr>\n",
       "      <th>2046</th>\n",
       "      <td>puppo</td>\n",
       "      <td>48265</td>\n",
       "      <td>132810</td>\n",
       "      <td>January</td>\n",
       "    </tr>\n",
       "  </tbody>\n",
       "</table>\n",
       "</div>"
      ],
      "text/plain": [
       "     dog_stage  retweet_count  favorite_count    month\n",
       "2046     puppo          48265          132810  January"
      ]
     },
     "execution_count": 60,
     "metadata": {},
     "output_type": "execute_result"
    }
   ],
   "source": [
    "#Which stage of dog has the highest favorite count\n",
    "twitter_archive[twitter_archive.favorite_count == twitter_archive.favorite_count.max()]"
   ]
  },
  {
   "cell_type": "code",
   "execution_count": 61,
   "id": "5e3030dc",
   "metadata": {},
   "outputs": [
    {
     "data": {
      "image/png": "[encoded data removed]",
      "text/plain": [
       "<Figure size 360x360 with 1 Axes>"
      ]
     },
     "metadata": {
      "needs_background": "light"
     },
     "output_type": "display_data"
    },
    {
     "data": {
      "text/plain": [
       "<Figure size 432x288 with 0 Axes>"
      ]
     },
     "metadata": {},
     "output_type": "display_data"
    }
   ],
   "source": [
    "fig = plt.figure(figsize = (5, 5))\n",
    "plt.bar(twitter_archive.dog_stage, twitter_archive.favorite_count, color = 'blue', width = 0.4)\n",
    "plt.xlabel('Different Stages of Dog')\n",
    "plt.ylabel('Number of Favorite Count')\n",
    "plt.title('Number of Favorite Count of Different Dogs')\n",
    "plt.show()\n",
    "plt.savefig('Favorite_Count')"
   ]
  },
  {
   "cell_type": "markdown",
   "id": "36ea049d",
   "metadata": {},
   "source": [
    "The chart shows that puppo and doggo have the highest favorite count"
   ]
  },
  {
   "cell_type": "code",
   "execution_count": 62,
   "id": "b814d557",
   "metadata": {},
   "outputs": [
    {
     "data": {
      "text/html": [
       "<div>\n",
       "<style scoped>\n",
       "    .dataframe tbody tr th:only-of-type {\n",
       "        vertical-align: middle;\n",
       "    }\n",
       "\n",
       "    .dataframe tbody tr th {\n",
       "        vertical-align: top;\n",
       "    }\n",
       "\n",
       "    .dataframe thead th {\n",
       "        text-align: right;\n",
       "    }\n",
       "</style>\n",
       "<table border=\"1\" class=\"dataframe\">\n",
       "  <thead>\n",
       "    <tr style=\"text-align: right;\">\n",
       "      <th></th>\n",
       "      <th>dog_stage</th>\n",
       "      <th>retweet_count</th>\n",
       "      <th>favorite_count</th>\n",
       "      <th>month</th>\n",
       "    </tr>\n",
       "  </thead>\n",
       "  <tbody>\n",
       "    <tr>\n",
       "      <th>1775</th>\n",
       "      <td>doggo</td>\n",
       "      <td>79515</td>\n",
       "      <td>131075</td>\n",
       "      <td>June</td>\n",
       "    </tr>\n",
       "    <tr>\n",
       "      <th>1787</th>\n",
       "      <td>doggo</td>\n",
       "      <td>52360</td>\n",
       "      <td>75163</td>\n",
       "      <td>June</td>\n",
       "    </tr>\n",
       "    <tr>\n",
       "      <th>2046</th>\n",
       "      <td>puppo</td>\n",
       "      <td>48265</td>\n",
       "      <td>132810</td>\n",
       "      <td>January</td>\n",
       "    </tr>\n",
       "    <tr>\n",
       "      <th>1780</th>\n",
       "      <td>doggo</td>\n",
       "      <td>42228</td>\n",
       "      <td>95450</td>\n",
       "      <td>January</td>\n",
       "    </tr>\n",
       "    <tr>\n",
       "      <th>1918</th>\n",
       "      <td>pupper</td>\n",
       "      <td>32883</td>\n",
       "      <td>106827</td>\n",
       "      <td>May</td>\n",
       "    </tr>\n",
       "    <tr>\n",
       "      <th>1791</th>\n",
       "      <td>doggo</td>\n",
       "      <td>27728</td>\n",
       "      <td>55683</td>\n",
       "      <td>November</td>\n",
       "    </tr>\n",
       "    <tr>\n",
       "      <th>1889</th>\n",
       "      <td>pupper</td>\n",
       "      <td>24514</td>\n",
       "      <td>38551</td>\n",
       "      <td>January</td>\n",
       "    </tr>\n",
       "    <tr>\n",
       "      <th>1779</th>\n",
       "      <td>doggo</td>\n",
       "      <td>21794</td>\n",
       "      <td>49960</td>\n",
       "      <td>January</td>\n",
       "    </tr>\n",
       "    <tr>\n",
       "      <th>2060</th>\n",
       "      <td>puppo</td>\n",
       "      <td>19669</td>\n",
       "      <td>56413</td>\n",
       "      <td>January</td>\n",
       "    </tr>\n",
       "    <tr>\n",
       "      <th>2041</th>\n",
       "      <td>puppo</td>\n",
       "      <td>19196</td>\n",
       "      <td>47844</td>\n",
       "      <td>April</td>\n",
       "    </tr>\n",
       "  </tbody>\n",
       "</table>\n",
       "</div>"
      ],
      "text/plain": [
       "     dog_stage  retweet_count  favorite_count     month\n",
       "1775     doggo          79515          131075      June\n",
       "1787     doggo          52360           75163      June\n",
       "2046     puppo          48265          132810   January\n",
       "1780     doggo          42228           95450   January\n",
       "1918    pupper          32883          106827       May\n",
       "1791     doggo          27728           55683  November\n",
       "1889    pupper          24514           38551   January\n",
       "1779     doggo          21794           49960   January\n",
       "2060     puppo          19669           56413   January\n",
       "2041     puppo          19196           47844     April"
      ]
     },
     "execution_count": 62,
     "metadata": {},
     "output_type": "execute_result"
    }
   ],
   "source": [
    "#which dog stage has both highest retweet count and favorite count\n",
    "top_ten = twitter_archive.sort_values(by = ['retweet_count','favorite_count'], ascending = False)\n",
    "top_ten.head(10)"
   ]
  },
  {
   "cell_type": "code",
   "execution_count": 63,
   "id": "b8ca5cdb",
   "metadata": {},
   "outputs": [
    {
     "data": {
      "image/png": "[encoded data removed]",
      "text/plain": [
       "<Figure size 432x288 with 1 Axes>"
      ]
     },
     "metadata": {
      "needs_background": "light"
     },
     "output_type": "display_data"
    }
   ],
   "source": [
    "#what is the relationship between favorite count and retweet count\n",
    "x = sb.regplot(x = twitter_archive.retweet_count, y = twitter_archive.favorite_count)\n",
    "x.set_title('Retweet_count versus Favorite_count')\n",
    "x.set_xlabel('Retweet Count of Different Dog Stages')\n",
    "x.set_ylabel('Favorite Count of Different Dog Stages')\n",
    "#plt.savefig('Retweet and Favorite count')\n",
    "sb.set_style('darkgrid')\n",
    "plt.savefig('Retweet_and_Favorite_count')"
   ]
  },
  {
   "cell_type": "markdown",
   "id": "1a935007",
   "metadata": {},
   "source": [
    "There is a strong correlation between number of retweet and number of favorite count which suggest that users are likely to retweet dogs that they like."
   ]
  },
  {
   "cell_type": "markdown",
   "id": "a82fb871",
   "metadata": {},
   "source": [
    "# Conclusion."
   ]
  },
  {
   "cell_type": "markdown",
   "id": "75d0784e",
   "metadata": {},
   "source": [
    "1. Doggo is the stage of dog with the highest retweet count.\n",
    "2. Puppo is the stage of dog with the highest favorite count.\n",
    "3. There is a strong correlation between number retweet and number of favorite which suggest that users are likely to retweet dogs that they like.\n",
    "4. The display also show that January and June have the highest number of retweet count and favorite count. Which suggest:\n",
    "        a. Beginning of the year where users show off their dogs maybe for new year rating.\n",
    "        b. Middle of the year where users show off the progress (growth) of their dogs for better rating.\n"
   ]
  },
  {
   "cell_type": "code",
   "execution_count": null,
   "id": "56a6faf3",
   "metadata": {},
   "outputs": [],
   "source": []
  }
 ],
 "metadata": {
  "kernelspec": {
   "display_name": "Python 3 (ipykernel)",
   "language": "python",
   "name": "python3"
  },
  "language_info": {
   "codemirror_mode": {
    "name": "ipython",
    "version": 3
   },
   "file_extension": ".py",
   "mimetype": "text/x-python",
   "name": "python",
   "nbconvert_exporter": "python",
   "pygments_lexer": "ipython3",
   "version": "3.8.12"
  }
 },
 "nbformat": 4,
 "nbformat_minor": 5
}
